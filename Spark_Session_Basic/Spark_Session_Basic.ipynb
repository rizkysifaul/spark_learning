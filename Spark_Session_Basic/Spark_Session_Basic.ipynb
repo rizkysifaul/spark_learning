{
 "cells": [
  {
   "cell_type": "code",
   "execution_count": 1,
   "metadata": {
    "ExecuteTime": {
     "end_time": "2019-10-30T06:41:29.546314Z",
     "start_time": "2019-10-30T06:41:29.243742Z"
    }
   },
   "outputs": [],
   "source": [
    "#create a new Spark Session\n",
    "from pyspark.sql import SparkSession"
   ]
  },
  {
   "cell_type": "code",
   "execution_count": 2,
   "metadata": {
    "ExecuteTime": {
     "end_time": "2019-10-30T06:42:45.791565Z",
     "start_time": "2019-10-30T06:42:23.367843Z"
    }
   },
   "outputs": [],
   "source": [
    "#create first builder app\n",
    "spark = SparkSession.builder.appName(\"Our First Spark App\").getOrCreate()"
   ]
  },
  {
   "cell_type": "code",
   "execution_count": 3,
   "metadata": {
    "ExecuteTime": {
     "end_time": "2019-10-30T06:43:20.459620Z",
     "start_time": "2019-10-30T06:43:20.396827Z"
    }
   },
   "outputs": [
    {
     "data": {
      "text/plain": [
       "[('spark.app.id', 'local-1572417763884'),\n",
       " ('spark.app.name', 'Our First Spark App'),\n",
       " ('spark.driver.host', 'LAPTOP-MGK4RHBV'),\n",
       " ('spark.driver.port', '56432'),\n",
       " ('spark.rdd.compress', 'True'),\n",
       " ('spark.serializer.objectStreamReset', '100'),\n",
       " ('spark.master', 'local[*]'),\n",
       " ('spark.executor.id', 'driver'),\n",
       " ('spark.submit.deployMode', 'client'),\n",
       " ('spark.ui.showConsoleProgress', 'true')]"
      ]
     },
     "execution_count": 3,
     "metadata": {},
     "output_type": "execute_result"
    }
   ],
   "source": [
    "#get details of our builder\n",
    "spark.sparkContext.getConf().getAll()"
   ]
  },
  {
   "cell_type": "code",
   "execution_count": 4,
   "metadata": {
    "ExecuteTime": {
     "end_time": "2019-10-30T06:45:14.043045Z",
     "start_time": "2019-10-30T06:45:14.025092Z"
    }
   },
   "outputs": [
    {
     "data": {
      "text/html": [
       "\n",
       "            <div>\n",
       "                <p><b>SparkSession - in-memory</b></p>\n",
       "                \n",
       "        <div>\n",
       "            <p><b>SparkContext</b></p>\n",
       "\n",
       "            <p><a href=\"http://LAPTOP-MGK4RHBV:4040\">Spark UI</a></p>\n",
       "\n",
       "            <dl>\n",
       "              <dt>Version</dt>\n",
       "                <dd><code>v2.4.3</code></dd>\n",
       "              <dt>Master</dt>\n",
       "                <dd><code>local[*]</code></dd>\n",
       "              <dt>AppName</dt>\n",
       "                <dd><code>Our First Spark App</code></dd>\n",
       "            </dl>\n",
       "        </div>\n",
       "        \n",
       "            </div>\n",
       "        "
      ],
      "text/plain": [
       "<pyspark.sql.session.SparkSession at 0x1bc542e73c8>"
      ]
     },
     "execution_count": 4,
     "metadata": {},
     "output_type": "execute_result"
    }
   ],
   "source": [
    "spark"
   ]
  },
  {
   "cell_type": "code",
   "execution_count": 5,
   "metadata": {
    "ExecuteTime": {
     "end_time": "2019-10-30T06:48:16.861732Z",
     "start_time": "2019-10-30T06:48:09.704553Z"
    }
   },
   "outputs": [],
   "source": [
    "#open some data\n",
    "path = \"sparkify_log_small.json\"\n",
    "user_log = spark.read.json(path)"
   ]
  },
  {
   "cell_type": "code",
   "execution_count": 6,
   "metadata": {
    "ExecuteTime": {
     "end_time": "2019-10-30T06:49:29.975836Z",
     "start_time": "2019-10-30T06:49:29.962871Z"
    }
   },
   "outputs": [
    {
     "name": "stdout",
     "output_type": "stream",
     "text": [
      "root\n",
      " |-- artist: string (nullable = true)\n",
      " |-- auth: string (nullable = true)\n",
      " |-- firstName: string (nullable = true)\n",
      " |-- gender: string (nullable = true)\n",
      " |-- itemInSession: long (nullable = true)\n",
      " |-- lastName: string (nullable = true)\n",
      " |-- length: double (nullable = true)\n",
      " |-- level: string (nullable = true)\n",
      " |-- location: string (nullable = true)\n",
      " |-- method: string (nullable = true)\n",
      " |-- page: string (nullable = true)\n",
      " |-- registration: long (nullable = true)\n",
      " |-- sessionId: long (nullable = true)\n",
      " |-- song: string (nullable = true)\n",
      " |-- status: long (nullable = true)\n",
      " |-- ts: long (nullable = true)\n",
      " |-- userAgent: string (nullable = true)\n",
      " |-- userId: string (nullable = true)\n",
      "\n"
     ]
    }
   ],
   "source": [
    "#check information of data\n",
    "user_log.printSchema()"
   ]
  },
  {
   "cell_type": "code",
   "execution_count": 7,
   "metadata": {
    "ExecuteTime": {
     "end_time": "2019-10-30T06:49:46.602522Z",
     "start_time": "2019-10-30T06:49:46.173642Z"
    }
   },
   "outputs": [
    {
     "data": {
      "text/plain": [
       "Row(artist='Showaddywaddy', auth='Logged In', firstName='Kenneth', gender='M', itemInSession=112, lastName='Matthews', length=232.93342, level='paid', location='Charlotte-Concord-Gastonia, NC-SC', method='PUT', page='NextSong', registration=1509380319284, sessionId=5132, song='Christmas Tears Will Fall', status=200, ts=1513720872284, userAgent='\"Mozilla/5.0 (Windows NT 6.1) AppleWebKit/537.36 (KHTML, like Gecko) Chrome/36.0.1985.125 Safari/537.36\"', userId='1046')"
      ]
     },
     "execution_count": 7,
     "metadata": {},
     "output_type": "execute_result"
    }
   ],
   "source": [
    "#checking our first row\n",
    "user_log.head()"
   ]
  },
  {
   "cell_type": "code",
   "execution_count": 8,
   "metadata": {
    "ExecuteTime": {
     "end_time": "2019-10-30T06:50:22.187615Z",
     "start_time": "2019-10-30T06:50:18.119910Z"
    }
   },
   "outputs": [
    {
     "data": {
      "text/html": [
       "<div>\n",
       "<style scoped>\n",
       "    .dataframe tbody tr th:only-of-type {\n",
       "        vertical-align: middle;\n",
       "    }\n",
       "\n",
       "    .dataframe tbody tr th {\n",
       "        vertical-align: top;\n",
       "    }\n",
       "\n",
       "    .dataframe thead th {\n",
       "        text-align: right;\n",
       "    }\n",
       "</style>\n",
       "<table border=\"1\" class=\"dataframe\">\n",
       "  <thead>\n",
       "    <tr style=\"text-align: right;\">\n",
       "      <th></th>\n",
       "      <th>artist</th>\n",
       "      <th>auth</th>\n",
       "      <th>firstName</th>\n",
       "      <th>gender</th>\n",
       "      <th>itemInSession</th>\n",
       "      <th>lastName</th>\n",
       "      <th>length</th>\n",
       "      <th>level</th>\n",
       "      <th>location</th>\n",
       "      <th>method</th>\n",
       "      <th>page</th>\n",
       "      <th>registration</th>\n",
       "      <th>sessionId</th>\n",
       "      <th>song</th>\n",
       "      <th>status</th>\n",
       "      <th>ts</th>\n",
       "      <th>userAgent</th>\n",
       "      <th>userId</th>\n",
       "    </tr>\n",
       "  </thead>\n",
       "  <tbody>\n",
       "    <tr>\n",
       "      <th>0</th>\n",
       "      <td>Showaddywaddy</td>\n",
       "      <td>Logged In</td>\n",
       "      <td>Kenneth</td>\n",
       "      <td>M</td>\n",
       "      <td>112</td>\n",
       "      <td>Matthews</td>\n",
       "      <td>232.93342</td>\n",
       "      <td>paid</td>\n",
       "      <td>Charlotte-Concord-Gastonia, NC-SC</td>\n",
       "      <td>PUT</td>\n",
       "      <td>NextSong</td>\n",
       "      <td>1.509380e+12</td>\n",
       "      <td>5132</td>\n",
       "      <td>Christmas Tears Will Fall</td>\n",
       "      <td>200</td>\n",
       "      <td>1513720872284</td>\n",
       "      <td>\"Mozilla/5.0 (Windows NT 6.1) AppleWebKit/537....</td>\n",
       "      <td>1046</td>\n",
       "    </tr>\n",
       "    <tr>\n",
       "      <th>1</th>\n",
       "      <td>Lily Allen</td>\n",
       "      <td>Logged In</td>\n",
       "      <td>Elizabeth</td>\n",
       "      <td>F</td>\n",
       "      <td>7</td>\n",
       "      <td>Chase</td>\n",
       "      <td>195.23873</td>\n",
       "      <td>free</td>\n",
       "      <td>Shreveport-Bossier City, LA</td>\n",
       "      <td>PUT</td>\n",
       "      <td>NextSong</td>\n",
       "      <td>1.512719e+12</td>\n",
       "      <td>5027</td>\n",
       "      <td>Cheryl Tweedy</td>\n",
       "      <td>200</td>\n",
       "      <td>1513720878284</td>\n",
       "      <td>\"Mozilla/5.0 (Windows NT 6.1) AppleWebKit/537....</td>\n",
       "      <td>1000</td>\n",
       "    </tr>\n",
       "    <tr>\n",
       "      <th>2</th>\n",
       "      <td>Cobra Starship Featuring Leighton Meester</td>\n",
       "      <td>Logged In</td>\n",
       "      <td>Vera</td>\n",
       "      <td>F</td>\n",
       "      <td>6</td>\n",
       "      <td>Blackwell</td>\n",
       "      <td>196.20526</td>\n",
       "      <td>paid</td>\n",
       "      <td>Racine, WI</td>\n",
       "      <td>PUT</td>\n",
       "      <td>NextSong</td>\n",
       "      <td>1.499856e+12</td>\n",
       "      <td>5516</td>\n",
       "      <td>Good Girls Go Bad (Feat.Leighton Meester) (Alb...</td>\n",
       "      <td>200</td>\n",
       "      <td>1513720881284</td>\n",
       "      <td>\"Mozilla/5.0 (Macintosh; Intel Mac OS X 10_9_4...</td>\n",
       "      <td>2219</td>\n",
       "    </tr>\n",
       "    <tr>\n",
       "      <th>3</th>\n",
       "      <td>Alex Smoke</td>\n",
       "      <td>Logged In</td>\n",
       "      <td>Sophee</td>\n",
       "      <td>F</td>\n",
       "      <td>8</td>\n",
       "      <td>Barker</td>\n",
       "      <td>405.99465</td>\n",
       "      <td>paid</td>\n",
       "      <td>San Luis Obispo-Paso Robles-Arroyo Grande, CA</td>\n",
       "      <td>PUT</td>\n",
       "      <td>NextSong</td>\n",
       "      <td>1.513010e+12</td>\n",
       "      <td>2372</td>\n",
       "      <td>Don't See The Point</td>\n",
       "      <td>200</td>\n",
       "      <td>1513720905284</td>\n",
       "      <td>\"Mozilla/5.0 (Windows NT 6.1; WOW64) AppleWebK...</td>\n",
       "      <td>2373</td>\n",
       "    </tr>\n",
       "    <tr>\n",
       "      <th>4</th>\n",
       "      <td>None</td>\n",
       "      <td>Logged In</td>\n",
       "      <td>Jordyn</td>\n",
       "      <td>F</td>\n",
       "      <td>0</td>\n",
       "      <td>Jones</td>\n",
       "      <td>NaN</td>\n",
       "      <td>free</td>\n",
       "      <td>Syracuse, NY</td>\n",
       "      <td>GET</td>\n",
       "      <td>Home</td>\n",
       "      <td>1.513649e+12</td>\n",
       "      <td>1746</td>\n",
       "      <td>None</td>\n",
       "      <td>200</td>\n",
       "      <td>1513720913284</td>\n",
       "      <td>\"Mozilla/5.0 (Macintosh; Intel Mac OS X 10_9_4...</td>\n",
       "      <td>1747</td>\n",
       "    </tr>\n",
       "    <tr>\n",
       "      <th>5</th>\n",
       "      <td>None</td>\n",
       "      <td>Logged In</td>\n",
       "      <td>Jordyn</td>\n",
       "      <td>F</td>\n",
       "      <td>1</td>\n",
       "      <td>Jones</td>\n",
       "      <td>NaN</td>\n",
       "      <td>free</td>\n",
       "      <td>Syracuse, NY</td>\n",
       "      <td>GET</td>\n",
       "      <td>Settings</td>\n",
       "      <td>1.513649e+12</td>\n",
       "      <td>1746</td>\n",
       "      <td>None</td>\n",
       "      <td>200</td>\n",
       "      <td>1513720932284</td>\n",
       "      <td>\"Mozilla/5.0 (Macintosh; Intel Mac OS X 10_9_4...</td>\n",
       "      <td>1747</td>\n",
       "    </tr>\n",
       "    <tr>\n",
       "      <th>6</th>\n",
       "      <td>Redman</td>\n",
       "      <td>Logged In</td>\n",
       "      <td>Paige</td>\n",
       "      <td>F</td>\n",
       "      <td>0</td>\n",
       "      <td>Hunter</td>\n",
       "      <td>154.53995</td>\n",
       "      <td>free</td>\n",
       "      <td>Brownwood, TX</td>\n",
       "      <td>PUT</td>\n",
       "      <td>NextSong</td>\n",
       "      <td>1.498414e+12</td>\n",
       "      <td>4406</td>\n",
       "      <td>Smoke Buddah</td>\n",
       "      <td>200</td>\n",
       "      <td>1513720955284</td>\n",
       "      <td>\"Mozilla/5.0 (Macintosh; Intel Mac OS X 10_9_4...</td>\n",
       "      <td>1162</td>\n",
       "    </tr>\n",
       "    <tr>\n",
       "      <th>7</th>\n",
       "      <td>Ulrich Schnauss</td>\n",
       "      <td>Logged In</td>\n",
       "      <td>Gabriel</td>\n",
       "      <td>M</td>\n",
       "      <td>2</td>\n",
       "      <td>Koch</td>\n",
       "      <td>402.93832</td>\n",
       "      <td>paid</td>\n",
       "      <td>Panama City, FL</td>\n",
       "      <td>PUT</td>\n",
       "      <td>NextSong</td>\n",
       "      <td>1.505820e+12</td>\n",
       "      <td>1060</td>\n",
       "      <td>On My Own</td>\n",
       "      <td>200</td>\n",
       "      <td>1513720959284</td>\n",
       "      <td>Mozilla/5.0 (Windows NT 6.1; WOW64; rv:32.0) G...</td>\n",
       "      <td>1061</td>\n",
       "    </tr>\n",
       "    <tr>\n",
       "      <th>8</th>\n",
       "      <td>None</td>\n",
       "      <td>Logged In</td>\n",
       "      <td>Mason</td>\n",
       "      <td>M</td>\n",
       "      <td>2</td>\n",
       "      <td>Thomas</td>\n",
       "      <td>NaN</td>\n",
       "      <td>paid</td>\n",
       "      <td>Indianapolis-Carmel-Anderson, IN</td>\n",
       "      <td>GET</td>\n",
       "      <td>Home</td>\n",
       "      <td>1.487016e+12</td>\n",
       "      <td>5661</td>\n",
       "      <td>None</td>\n",
       "      <td>200</td>\n",
       "      <td>1513720959284</td>\n",
       "      <td>Mozilla/5.0 (compatible; MSIE 10.0; Windows NT...</td>\n",
       "      <td>748</td>\n",
       "    </tr>\n",
       "    <tr>\n",
       "      <th>9</th>\n",
       "      <td>None</td>\n",
       "      <td>Logged In</td>\n",
       "      <td>Alexander</td>\n",
       "      <td>M</td>\n",
       "      <td>0</td>\n",
       "      <td>Short</td>\n",
       "      <td>NaN</td>\n",
       "      <td>free</td>\n",
       "      <td>Green Bay, WI</td>\n",
       "      <td>GET</td>\n",
       "      <td>Home</td>\n",
       "      <td>1.513594e+12</td>\n",
       "      <td>3689</td>\n",
       "      <td>None</td>\n",
       "      <td>200</td>\n",
       "      <td>1513720980284</td>\n",
       "      <td>\"Mozilla/5.0 (Windows NT 6.1; WOW64) AppleWebK...</td>\n",
       "      <td>597</td>\n",
       "    </tr>\n",
       "    <tr>\n",
       "      <th>10</th>\n",
       "      <td>Jay-Z</td>\n",
       "      <td>Logged In</td>\n",
       "      <td>Micheal</td>\n",
       "      <td>M</td>\n",
       "      <td>23</td>\n",
       "      <td>Morgan</td>\n",
       "      <td>223.26812</td>\n",
       "      <td>paid</td>\n",
       "      <td>Sterling, CO</td>\n",
       "      <td>PUT</td>\n",
       "      <td>NextSong</td>\n",
       "      <td>1.485051e+12</td>\n",
       "      <td>5175</td>\n",
       "      <td>Heart Of The City (Ain't No Love)</td>\n",
       "      <td>200</td>\n",
       "      <td>1513720983284</td>\n",
       "      <td>\"Mozilla/5.0 (Windows NT 6.1; WOW64) AppleWebK...</td>\n",
       "      <td>1806</td>\n",
       "    </tr>\n",
       "    <tr>\n",
       "      <th>11</th>\n",
       "      <td>Evanescence</td>\n",
       "      <td>Logged In</td>\n",
       "      <td>Mason</td>\n",
       "      <td>M</td>\n",
       "      <td>3</td>\n",
       "      <td>Thomas</td>\n",
       "      <td>237.11302</td>\n",
       "      <td>paid</td>\n",
       "      <td>Indianapolis-Carmel-Anderson, IN</td>\n",
       "      <td>PUT</td>\n",
       "      <td>NextSong</td>\n",
       "      <td>1.487016e+12</td>\n",
       "      <td>5661</td>\n",
       "      <td>Bring Me To Life</td>\n",
       "      <td>200</td>\n",
       "      <td>1513720993284</td>\n",
       "      <td>Mozilla/5.0 (compatible; MSIE 10.0; Windows NT...</td>\n",
       "      <td>748</td>\n",
       "    </tr>\n",
       "    <tr>\n",
       "      <th>12</th>\n",
       "      <td>Scissor Sisters</td>\n",
       "      <td>Logged In</td>\n",
       "      <td>Justin</td>\n",
       "      <td>M</td>\n",
       "      <td>82</td>\n",
       "      <td>Jones</td>\n",
       "      <td>218.01751</td>\n",
       "      <td>paid</td>\n",
       "      <td>Dayton, TN</td>\n",
       "      <td>PUT</td>\n",
       "      <td>NextSong</td>\n",
       "      <td>1.504707e+12</td>\n",
       "      <td>1175</td>\n",
       "      <td>Laura</td>\n",
       "      <td>200</td>\n",
       "      <td>1513721031284</td>\n",
       "      <td>\"Mozilla/5.0 (Windows NT 6.1; WOW64) AppleWebK...</td>\n",
       "      <td>1176</td>\n",
       "    </tr>\n",
       "    <tr>\n",
       "      <th>13</th>\n",
       "      <td>3 Doors Down</td>\n",
       "      <td>Logged In</td>\n",
       "      <td>Zoie</td>\n",
       "      <td>F</td>\n",
       "      <td>28</td>\n",
       "      <td>Wright</td>\n",
       "      <td>237.13914</td>\n",
       "      <td>paid</td>\n",
       "      <td>Chicago-Naperville-Elgin, IL-IN-WI</td>\n",
       "      <td>PUT</td>\n",
       "      <td>NextSong</td>\n",
       "      <td>1.512172e+12</td>\n",
       "      <td>2163</td>\n",
       "      <td>Here Without You</td>\n",
       "      <td>200</td>\n",
       "      <td>1513721045284</td>\n",
       "      <td>\"Mozilla/5.0 (Macintosh; Intel Mac OS X 10_9_4...</td>\n",
       "      <td>2164</td>\n",
       "    </tr>\n",
       "    <tr>\n",
       "      <th>14</th>\n",
       "      <td>George Younce</td>\n",
       "      <td>Logged In</td>\n",
       "      <td>Malachi</td>\n",
       "      <td>M</td>\n",
       "      <td>3</td>\n",
       "      <td>Lane</td>\n",
       "      <td>191.68608</td>\n",
       "      <td>free</td>\n",
       "      <td>Sioux Falls, SD</td>\n",
       "      <td>PUT</td>\n",
       "      <td>NextSong</td>\n",
       "      <td>1.510109e+12</td>\n",
       "      <td>5272</td>\n",
       "      <td>This Old House w/ When The Saints Medley</td>\n",
       "      <td>200</td>\n",
       "      <td>1513721058284</td>\n",
       "      <td>Mozilla/5.0 (Windows NT 6.2; WOW64; rv:31.0) G...</td>\n",
       "      <td>2146</td>\n",
       "    </tr>\n",
       "    <tr>\n",
       "      <th>15</th>\n",
       "      <td>Aly-Us</td>\n",
       "      <td>Logged In</td>\n",
       "      <td>Vera</td>\n",
       "      <td>F</td>\n",
       "      <td>7</td>\n",
       "      <td>Blackwell</td>\n",
       "      <td>383.58159</td>\n",
       "      <td>paid</td>\n",
       "      <td>Racine, WI</td>\n",
       "      <td>PUT</td>\n",
       "      <td>NextSong</td>\n",
       "      <td>1.499856e+12</td>\n",
       "      <td>5516</td>\n",
       "      <td>Follow Me (Club Mix)</td>\n",
       "      <td>200</td>\n",
       "      <td>1513721077284</td>\n",
       "      <td>\"Mozilla/5.0 (Macintosh; Intel Mac OS X 10_9_4...</td>\n",
       "      <td>2219</td>\n",
       "    </tr>\n",
       "    <tr>\n",
       "      <th>16</th>\n",
       "      <td>None</td>\n",
       "      <td>Logged In</td>\n",
       "      <td>Justin</td>\n",
       "      <td>M</td>\n",
       "      <td>83</td>\n",
       "      <td>Jones</td>\n",
       "      <td>NaN</td>\n",
       "      <td>paid</td>\n",
       "      <td>Dayton, TN</td>\n",
       "      <td>GET</td>\n",
       "      <td>Home</td>\n",
       "      <td>1.504707e+12</td>\n",
       "      <td>1175</td>\n",
       "      <td>None</td>\n",
       "      <td>200</td>\n",
       "      <td>1513721088284</td>\n",
       "      <td>\"Mozilla/5.0 (Windows NT 6.1; WOW64) AppleWebK...</td>\n",
       "      <td>1176</td>\n",
       "    </tr>\n",
       "    <tr>\n",
       "      <th>17</th>\n",
       "      <td>BjÃÂ¶rk</td>\n",
       "      <td>Logged In</td>\n",
       "      <td>Elena</td>\n",
       "      <td>F</td>\n",
       "      <td>0</td>\n",
       "      <td>Newman</td>\n",
       "      <td>348.57751</td>\n",
       "      <td>free</td>\n",
       "      <td>Boston-Cambridge-Newton, MA-NH</td>\n",
       "      <td>PUT</td>\n",
       "      <td>NextSong</td>\n",
       "      <td>1.513494e+12</td>\n",
       "      <td>2903</td>\n",
       "      <td>Undo</td>\n",
       "      <td>200</td>\n",
       "      <td>1513721095284</td>\n",
       "      <td>Mozilla/5.0 (Windows NT 6.1; WOW64; rv:31.0) G...</td>\n",
       "      <td>2904</td>\n",
       "    </tr>\n",
       "    <tr>\n",
       "      <th>18</th>\n",
       "      <td>David Bromberg</td>\n",
       "      <td>Logged In</td>\n",
       "      <td>Alexander</td>\n",
       "      <td>M</td>\n",
       "      <td>1</td>\n",
       "      <td>Short</td>\n",
       "      <td>146.36363</td>\n",
       "      <td>free</td>\n",
       "      <td>Green Bay, WI</td>\n",
       "      <td>PUT</td>\n",
       "      <td>NextSong</td>\n",
       "      <td>1.513594e+12</td>\n",
       "      <td>3689</td>\n",
       "      <td>Sheebeg And Sheemore</td>\n",
       "      <td>200</td>\n",
       "      <td>1513721097284</td>\n",
       "      <td>\"Mozilla/5.0 (Windows NT 6.1; WOW64) AppleWebK...</td>\n",
       "      <td>597</td>\n",
       "    </tr>\n",
       "    <tr>\n",
       "      <th>19</th>\n",
       "      <td>Nickelback</td>\n",
       "      <td>Logged In</td>\n",
       "      <td>Abigail</td>\n",
       "      <td>F</td>\n",
       "      <td>4</td>\n",
       "      <td>Davidson</td>\n",
       "      <td>238.18404</td>\n",
       "      <td>paid</td>\n",
       "      <td>Lansing-East Lansing, MI</td>\n",
       "      <td>PUT</td>\n",
       "      <td>NextSong</td>\n",
       "      <td>1.513173e+12</td>\n",
       "      <td>4591</td>\n",
       "      <td>Far Away (Album Version)</td>\n",
       "      <td>200</td>\n",
       "      <td>1513721104284</td>\n",
       "      <td>\"Mozilla/5.0 (Macintosh; Intel Mac OS X 10_9_4...</td>\n",
       "      <td>226</td>\n",
       "    </tr>\n",
       "    <tr>\n",
       "      <th>20</th>\n",
       "      <td>Darius Rucker</td>\n",
       "      <td>Logged In</td>\n",
       "      <td>Kenneth</td>\n",
       "      <td>M</td>\n",
       "      <td>113</td>\n",
       "      <td>Matthews</td>\n",
       "      <td>206.00118</td>\n",
       "      <td>paid</td>\n",
       "      <td>Charlotte-Concord-Gastonia, NC-SC</td>\n",
       "      <td>PUT</td>\n",
       "      <td>NextSong</td>\n",
       "      <td>1.509380e+12</td>\n",
       "      <td>5132</td>\n",
       "      <td>Be Wary Of A Woman</td>\n",
       "      <td>200</td>\n",
       "      <td>1513721104284</td>\n",
       "      <td>\"Mozilla/5.0 (Windows NT 6.1) AppleWebKit/537....</td>\n",
       "      <td>1046</td>\n",
       "    </tr>\n",
       "    <tr>\n",
       "      <th>21</th>\n",
       "      <td>Mayday Parade</td>\n",
       "      <td>Logged In</td>\n",
       "      <td>Paige</td>\n",
       "      <td>F</td>\n",
       "      <td>1</td>\n",
       "      <td>Hunter</td>\n",
       "      <td>241.42322</td>\n",
       "      <td>free</td>\n",
       "      <td>Brownwood, TX</td>\n",
       "      <td>PUT</td>\n",
       "      <td>NextSong</td>\n",
       "      <td>1.498414e+12</td>\n",
       "      <td>4406</td>\n",
       "      <td>I'd Hate To Be You When People Find Out What T...</td>\n",
       "      <td>200</td>\n",
       "      <td>1513721109284</td>\n",
       "      <td>\"Mozilla/5.0 (Macintosh; Intel Mac OS X 10_9_4...</td>\n",
       "      <td>1162</td>\n",
       "    </tr>\n",
       "    <tr>\n",
       "      <th>22</th>\n",
       "      <td>Simple Minds</td>\n",
       "      <td>Logged In</td>\n",
       "      <td>Ryder</td>\n",
       "      <td>M</td>\n",
       "      <td>1</td>\n",
       "      <td>Rodriguez</td>\n",
       "      <td>401.78893</td>\n",
       "      <td>free</td>\n",
       "      <td>Freeport, IL</td>\n",
       "      <td>PUT</td>\n",
       "      <td>NextSong</td>\n",
       "      <td>1.513668e+12</td>\n",
       "      <td>2941</td>\n",
       "      <td>Oh Jungleland</td>\n",
       "      <td>200</td>\n",
       "      <td>1513721127284</td>\n",
       "      <td>\"Mozilla/5.0 (Macintosh; Intel Mac OS X 10_9_4...</td>\n",
       "      <td>2942</td>\n",
       "    </tr>\n",
       "    <tr>\n",
       "      <th>23</th>\n",
       "      <td>None</td>\n",
       "      <td>Logged In</td>\n",
       "      <td>Justin</td>\n",
       "      <td>M</td>\n",
       "      <td>84</td>\n",
       "      <td>Jones</td>\n",
       "      <td>NaN</td>\n",
       "      <td>paid</td>\n",
       "      <td>Dayton, TN</td>\n",
       "      <td>GET</td>\n",
       "      <td>Settings</td>\n",
       "      <td>1.504707e+12</td>\n",
       "      <td>1175</td>\n",
       "      <td>None</td>\n",
       "      <td>200</td>\n",
       "      <td>1513721160284</td>\n",
       "      <td>\"Mozilla/5.0 (Windows NT 6.1; WOW64) AppleWebK...</td>\n",
       "      <td>1176</td>\n",
       "    </tr>\n",
       "    <tr>\n",
       "      <th>24</th>\n",
       "      <td>Dropkick Murphys</td>\n",
       "      <td>Logged In</td>\n",
       "      <td>Eliana</td>\n",
       "      <td>F</td>\n",
       "      <td>1</td>\n",
       "      <td>Thomas</td>\n",
       "      <td>159.76444</td>\n",
       "      <td>paid</td>\n",
       "      <td>Knoxville, TN</td>\n",
       "      <td>PUT</td>\n",
       "      <td>NextSong</td>\n",
       "      <td>1.511496e+12</td>\n",
       "      <td>4686</td>\n",
       "      <td>Captain Kelly's Kitchen</td>\n",
       "      <td>200</td>\n",
       "      <td>1513721182284</td>\n",
       "      <td>\"Mozilla/5.0 (Windows NT 6.1) AppleWebKit/537....</td>\n",
       "      <td>2779</td>\n",
       "    </tr>\n",
       "    <tr>\n",
       "      <th>25</th>\n",
       "      <td>None</td>\n",
       "      <td>Logged Out</td>\n",
       "      <td>None</td>\n",
       "      <td>None</td>\n",
       "      <td>0</td>\n",
       "      <td>None</td>\n",
       "      <td>NaN</td>\n",
       "      <td>free</td>\n",
       "      <td>None</td>\n",
       "      <td>PUT</td>\n",
       "      <td>Login</td>\n",
       "      <td>NaN</td>\n",
       "      <td>5598</td>\n",
       "      <td>None</td>\n",
       "      <td>307</td>\n",
       "      <td>1513721196284</td>\n",
       "      <td>None</td>\n",
       "      <td></td>\n",
       "    </tr>\n",
       "    <tr>\n",
       "      <th>26</th>\n",
       "      <td>Milczenie Owiec</td>\n",
       "      <td>Logged In</td>\n",
       "      <td>Micheal</td>\n",
       "      <td>M</td>\n",
       "      <td>24</td>\n",
       "      <td>Morgan</td>\n",
       "      <td>219.29751</td>\n",
       "      <td>paid</td>\n",
       "      <td>Sterling, CO</td>\n",
       "      <td>PUT</td>\n",
       "      <td>NextSong</td>\n",
       "      <td>1.485051e+12</td>\n",
       "      <td>5175</td>\n",
       "      <td>CIEÃÂ</td>\n",
       "      <td>200</td>\n",
       "      <td>1513721206284</td>\n",
       "      <td>\"Mozilla/5.0 (Windows NT 6.1; WOW64) AppleWebK...</td>\n",
       "      <td>1806</td>\n",
       "    </tr>\n",
       "    <tr>\n",
       "      <th>27</th>\n",
       "      <td>Jonny Lang</td>\n",
       "      <td>Logged In</td>\n",
       "      <td>Lillian</td>\n",
       "      <td>F</td>\n",
       "      <td>2</td>\n",
       "      <td>Ryan</td>\n",
       "      <td>226.27220</td>\n",
       "      <td>free</td>\n",
       "      <td>Charlotte-Concord-Gastonia, NC-SC</td>\n",
       "      <td>PUT</td>\n",
       "      <td>NextSong</td>\n",
       "      <td>1.510763e+12</td>\n",
       "      <td>4641</td>\n",
       "      <td>Red Light</td>\n",
       "      <td>200</td>\n",
       "      <td>1513721207284</td>\n",
       "      <td>\"Mozilla/5.0 (Macintosh; Intel Mac OS X 10_9_4...</td>\n",
       "      <td>2887</td>\n",
       "    </tr>\n",
       "    <tr>\n",
       "      <th>28</th>\n",
       "      <td>Nicole C. Mullen</td>\n",
       "      <td>Logged In</td>\n",
       "      <td>Connor</td>\n",
       "      <td>M</td>\n",
       "      <td>18</td>\n",
       "      <td>Gillespie</td>\n",
       "      <td>282.90567</td>\n",
       "      <td>paid</td>\n",
       "      <td>Santa Cruz-Watsonville, CA</td>\n",
       "      <td>PUT</td>\n",
       "      <td>NextSong</td>\n",
       "      <td>1.506639e+12</td>\n",
       "      <td>5698</td>\n",
       "      <td>Without You (LP Version)</td>\n",
       "      <td>200</td>\n",
       "      <td>1513721214284</td>\n",
       "      <td>\"Mozilla/5.0 (Windows NT 6.1) AppleWebKit/537....</td>\n",
       "      <td>1035</td>\n",
       "    </tr>\n",
       "    <tr>\n",
       "      <th>29</th>\n",
       "      <td>The Police</td>\n",
       "      <td>Logged In</td>\n",
       "      <td>Mason</td>\n",
       "      <td>M</td>\n",
       "      <td>4</td>\n",
       "      <td>Thomas</td>\n",
       "      <td>289.22730</td>\n",
       "      <td>paid</td>\n",
       "      <td>Indianapolis-Carmel-Anderson, IN</td>\n",
       "      <td>PUT</td>\n",
       "      <td>NextSong</td>\n",
       "      <td>1.487016e+12</td>\n",
       "      <td>5661</td>\n",
       "      <td>Message In A Bottle</td>\n",
       "      <td>200</td>\n",
       "      <td>1513721230284</td>\n",
       "      <td>Mozilla/5.0 (compatible; MSIE 10.0; Windows NT...</td>\n",
       "      <td>748</td>\n",
       "    </tr>\n",
       "    <tr>\n",
       "      <th>...</th>\n",
       "      <td>...</td>\n",
       "      <td>...</td>\n",
       "      <td>...</td>\n",
       "      <td>...</td>\n",
       "      <td>...</td>\n",
       "      <td>...</td>\n",
       "      <td>...</td>\n",
       "      <td>...</td>\n",
       "      <td>...</td>\n",
       "      <td>...</td>\n",
       "      <td>...</td>\n",
       "      <td>...</td>\n",
       "      <td>...</td>\n",
       "      <td>...</td>\n",
       "      <td>...</td>\n",
       "      <td>...</td>\n",
       "      <td>...</td>\n",
       "      <td>...</td>\n",
       "    </tr>\n",
       "    <tr>\n",
       "      <th>9970</th>\n",
       "      <td>Matthew Dear</td>\n",
       "      <td>Logged In</td>\n",
       "      <td>Zachary</td>\n",
       "      <td>M</td>\n",
       "      <td>3</td>\n",
       "      <td>Bennett</td>\n",
       "      <td>190.27546</td>\n",
       "      <td>paid</td>\n",
       "      <td>Winston-Salem, NC</td>\n",
       "      <td>PUT</td>\n",
       "      <td>NextSong</td>\n",
       "      <td>1.511134e+12</td>\n",
       "      <td>1350</td>\n",
       "      <td>Neighborhoods</td>\n",
       "      <td>200</td>\n",
       "      <td>1513847870284</td>\n",
       "      <td>Mozilla/5.0 (Windows NT 6.1; WOW64; rv:31.0) G...</td>\n",
       "      <td>1351</td>\n",
       "    </tr>\n",
       "    <tr>\n",
       "      <th>9971</th>\n",
       "      <td>Kanye West / Mos Def</td>\n",
       "      <td>Logged In</td>\n",
       "      <td>Ava</td>\n",
       "      <td>F</td>\n",
       "      <td>6</td>\n",
       "      <td>Walker</td>\n",
       "      <td>313.28608</td>\n",
       "      <td>paid</td>\n",
       "      <td>Springfield, MO</td>\n",
       "      <td>PUT</td>\n",
       "      <td>NextSong</td>\n",
       "      <td>1.498733e+12</td>\n",
       "      <td>5679</td>\n",
       "      <td>Drunk and Hot Girls</td>\n",
       "      <td>200</td>\n",
       "      <td>1513847881284</td>\n",
       "      <td>\"Mozilla/5.0 (Windows NT 6.1; WOW64) AppleWebK...</td>\n",
       "      <td>1915</td>\n",
       "    </tr>\n",
       "    <tr>\n",
       "      <th>9972</th>\n",
       "      <td>Iron And Wine</td>\n",
       "      <td>Logged In</td>\n",
       "      <td>Landan</td>\n",
       "      <td>M</td>\n",
       "      <td>60</td>\n",
       "      <td>Thompson</td>\n",
       "      <td>153.05098</td>\n",
       "      <td>paid</td>\n",
       "      <td>Denver-Aurora-Lakewood, CO</td>\n",
       "      <td>PUT</td>\n",
       "      <td>NextSong</td>\n",
       "      <td>1.507118e+12</td>\n",
       "      <td>7006</td>\n",
       "      <td>Naked As We Can</td>\n",
       "      <td>200</td>\n",
       "      <td>1513847892284</td>\n",
       "      <td>\"Mozilla/5.0 (Macintosh; Intel Mac OS X 10_9_4...</td>\n",
       "      <td>649</td>\n",
       "    </tr>\n",
       "    <tr>\n",
       "      <th>9973</th>\n",
       "      <td>James Taylor</td>\n",
       "      <td>Logged In</td>\n",
       "      <td>Gillian</td>\n",
       "      <td>F</td>\n",
       "      <td>3</td>\n",
       "      <td>Gonzalez</td>\n",
       "      <td>120.97261</td>\n",
       "      <td>paid</td>\n",
       "      <td>Indianapolis-Carmel-Anderson, IN</td>\n",
       "      <td>PUT</td>\n",
       "      <td>NextSong</td>\n",
       "      <td>1.493060e+12</td>\n",
       "      <td>6754</td>\n",
       "      <td>Oh_ Susannah (LP Version)</td>\n",
       "      <td>200</td>\n",
       "      <td>1513847928284</td>\n",
       "      <td>\"Mozilla/5.0 (Macintosh; Intel Mac OS X 10_9_4...</td>\n",
       "      <td>888</td>\n",
       "    </tr>\n",
       "    <tr>\n",
       "      <th>9974</th>\n",
       "      <td>Muse</td>\n",
       "      <td>Logged In</td>\n",
       "      <td>Jesus</td>\n",
       "      <td>M</td>\n",
       "      <td>1</td>\n",
       "      <td>Greene</td>\n",
       "      <td>297.01179</td>\n",
       "      <td>free</td>\n",
       "      <td>Sebring, FL</td>\n",
       "      <td>PUT</td>\n",
       "      <td>NextSong</td>\n",
       "      <td>1.513517e+12</td>\n",
       "      <td>6924</td>\n",
       "      <td>Stockholm Syndrome</td>\n",
       "      <td>200</td>\n",
       "      <td>1513847964284</td>\n",
       "      <td>\"Mozilla/5.0 (Macintosh; Intel Mac OS X 10_9_4...</td>\n",
       "      <td>1678</td>\n",
       "    </tr>\n",
       "    <tr>\n",
       "      <th>9975</th>\n",
       "      <td>Justin Bieber</td>\n",
       "      <td>Logged In</td>\n",
       "      <td>Oscar</td>\n",
       "      <td>M</td>\n",
       "      <td>67</td>\n",
       "      <td>Stafford</td>\n",
       "      <td>222.92853</td>\n",
       "      <td>paid</td>\n",
       "      <td>New York-Newark-Jersey City, NY-NJ-PA</td>\n",
       "      <td>PUT</td>\n",
       "      <td>NextSong</td>\n",
       "      <td>1.511648e+12</td>\n",
       "      <td>5431</td>\n",
       "      <td>Stuck In The Moment</td>\n",
       "      <td>200</td>\n",
       "      <td>1513848009284</td>\n",
       "      <td>Mozilla/5.0 (Macintosh; Intel Mac OS X 10.6; r...</td>\n",
       "      <td>1107</td>\n",
       "    </tr>\n",
       "    <tr>\n",
       "      <th>9976</th>\n",
       "      <td>Ghost in the Machine</td>\n",
       "      <td>Logged In</td>\n",
       "      <td>Oakley</td>\n",
       "      <td>F</td>\n",
       "      <td>0</td>\n",
       "      <td>Baker</td>\n",
       "      <td>285.23057</td>\n",
       "      <td>free</td>\n",
       "      <td>Scranton--Wilkes-Barre--Hazleton, PA</td>\n",
       "      <td>PUT</td>\n",
       "      <td>NextSong</td>\n",
       "      <td>1.510535e+12</td>\n",
       "      <td>7014</td>\n",
       "      <td>Lady Love</td>\n",
       "      <td>200</td>\n",
       "      <td>1513848031284</td>\n",
       "      <td>\"Mozilla/5.0 (Macintosh; Intel Mac OS X 10_9_4...</td>\n",
       "      <td>480</td>\n",
       "    </tr>\n",
       "    <tr>\n",
       "      <th>9977</th>\n",
       "      <td>The Lettermen</td>\n",
       "      <td>Logged In</td>\n",
       "      <td>Olivia</td>\n",
       "      <td>F</td>\n",
       "      <td>22</td>\n",
       "      <td>Hoffman</td>\n",
       "      <td>159.42485</td>\n",
       "      <td>paid</td>\n",
       "      <td>Detroit-Warren-Dearborn, MI</td>\n",
       "      <td>PUT</td>\n",
       "      <td>NextSong</td>\n",
       "      <td>1.502414e+12</td>\n",
       "      <td>4809</td>\n",
       "      <td>Put Your Head On My Shoulder</td>\n",
       "      <td>200</td>\n",
       "      <td>1513848034284</td>\n",
       "      <td>Mozilla/5.0 (Macintosh; Intel Mac OS X 10.9; r...</td>\n",
       "      <td>1430</td>\n",
       "    </tr>\n",
       "    <tr>\n",
       "      <th>9978</th>\n",
       "      <td>Yann Tiersen</td>\n",
       "      <td>Logged In</td>\n",
       "      <td>Jazlean</td>\n",
       "      <td>F</td>\n",
       "      <td>39</td>\n",
       "      <td>Watkins</td>\n",
       "      <td>47.56853</td>\n",
       "      <td>paid</td>\n",
       "      <td>Washington-Arlington-Alexandria, DC-VA-MD-WV</td>\n",
       "      <td>PUT</td>\n",
       "      <td>NextSong</td>\n",
       "      <td>1.501481e+12</td>\n",
       "      <td>4421</td>\n",
       "      <td>Dishes</td>\n",
       "      <td>200</td>\n",
       "      <td>1513848035284</td>\n",
       "      <td>Mozilla/5.0 (Windows NT 6.1; Trident/7.0; rv:1...</td>\n",
       "      <td>1881</td>\n",
       "    </tr>\n",
       "    <tr>\n",
       "      <th>9979</th>\n",
       "      <td>The Van Jets</td>\n",
       "      <td>Logged In</td>\n",
       "      <td>Landan</td>\n",
       "      <td>M</td>\n",
       "      <td>61</td>\n",
       "      <td>Thompson</td>\n",
       "      <td>210.70322</td>\n",
       "      <td>paid</td>\n",
       "      <td>Denver-Aurora-Lakewood, CO</td>\n",
       "      <td>PUT</td>\n",
       "      <td>NextSong</td>\n",
       "      <td>1.507118e+12</td>\n",
       "      <td>7006</td>\n",
       "      <td>Matador</td>\n",
       "      <td>200</td>\n",
       "      <td>1513848045284</td>\n",
       "      <td>\"Mozilla/5.0 (Macintosh; Intel Mac OS X 10_9_4...</td>\n",
       "      <td>649</td>\n",
       "    </tr>\n",
       "    <tr>\n",
       "      <th>9980</th>\n",
       "      <td>Marc Anthony</td>\n",
       "      <td>Logged In</td>\n",
       "      <td>Gillian</td>\n",
       "      <td>F</td>\n",
       "      <td>4</td>\n",
       "      <td>Gonzalez</td>\n",
       "      <td>305.03138</td>\n",
       "      <td>paid</td>\n",
       "      <td>Indianapolis-Carmel-Anderson, IN</td>\n",
       "      <td>PUT</td>\n",
       "      <td>NextSong</td>\n",
       "      <td>1.493060e+12</td>\n",
       "      <td>6754</td>\n",
       "      <td>Hasta Que Te Conoci</td>\n",
       "      <td>200</td>\n",
       "      <td>1513848048284</td>\n",
       "      <td>\"Mozilla/5.0 (Macintosh; Intel Mac OS X 10_9_4...</td>\n",
       "      <td>888</td>\n",
       "    </tr>\n",
       "    <tr>\n",
       "      <th>9981</th>\n",
       "      <td>Taylor Swift</td>\n",
       "      <td>Logged In</td>\n",
       "      <td>Zachary</td>\n",
       "      <td>M</td>\n",
       "      <td>4</td>\n",
       "      <td>Bennett</td>\n",
       "      <td>245.36771</td>\n",
       "      <td>paid</td>\n",
       "      <td>Winston-Salem, NC</td>\n",
       "      <td>PUT</td>\n",
       "      <td>NextSong</td>\n",
       "      <td>1.511134e+12</td>\n",
       "      <td>1350</td>\n",
       "      <td>The Way I Loved You</td>\n",
       "      <td>200</td>\n",
       "      <td>1513848060284</td>\n",
       "      <td>Mozilla/5.0 (Windows NT 6.1; WOW64; rv:31.0) G...</td>\n",
       "      <td>1351</td>\n",
       "    </tr>\n",
       "    <tr>\n",
       "      <th>9982</th>\n",
       "      <td>My Chemical Romance</td>\n",
       "      <td>Logged In</td>\n",
       "      <td>Carl</td>\n",
       "      <td>M</td>\n",
       "      <td>22</td>\n",
       "      <td>Thomas</td>\n",
       "      <td>195.52608</td>\n",
       "      <td>paid</td>\n",
       "      <td>Chicago-Naperville-Elgin, IL-IN-WI</td>\n",
       "      <td>PUT</td>\n",
       "      <td>NextSong</td>\n",
       "      <td>1.505261e+12</td>\n",
       "      <td>4735</td>\n",
       "      <td>Dead! (Album Version)</td>\n",
       "      <td>200</td>\n",
       "      <td>1513848061284</td>\n",
       "      <td>Mozilla/5.0 (Macintosh; Intel Mac OS X 10.9; r...</td>\n",
       "      <td>1779</td>\n",
       "    </tr>\n",
       "    <tr>\n",
       "      <th>9983</th>\n",
       "      <td>Alanis Morissette</td>\n",
       "      <td>Logged In</td>\n",
       "      <td>Jazlean</td>\n",
       "      <td>F</td>\n",
       "      <td>40</td>\n",
       "      <td>Watkins</td>\n",
       "      <td>267.25832</td>\n",
       "      <td>paid</td>\n",
       "      <td>Washington-Arlington-Alexandria, DC-VA-MD-WV</td>\n",
       "      <td>PUT</td>\n",
       "      <td>NextSong</td>\n",
       "      <td>1.501481e+12</td>\n",
       "      <td>4421</td>\n",
       "      <td>Head Over Feet (Album Version)</td>\n",
       "      <td>200</td>\n",
       "      <td>1513848082284</td>\n",
       "      <td>Mozilla/5.0 (Windows NT 6.1; Trident/7.0; rv:1...</td>\n",
       "      <td>1881</td>\n",
       "    </tr>\n",
       "    <tr>\n",
       "      <th>9984</th>\n",
       "      <td>Milczenie Owiec</td>\n",
       "      <td>Logged In</td>\n",
       "      <td>Judson</td>\n",
       "      <td>M</td>\n",
       "      <td>10</td>\n",
       "      <td>Kim</td>\n",
       "      <td>219.29751</td>\n",
       "      <td>paid</td>\n",
       "      <td>Worcester, MA-CT</td>\n",
       "      <td>PUT</td>\n",
       "      <td>NextSong</td>\n",
       "      <td>1.510668e+12</td>\n",
       "      <td>7116</td>\n",
       "      <td>CIEÃÂ</td>\n",
       "      <td>200</td>\n",
       "      <td>1513848084284</td>\n",
       "      <td>\"Mozilla/5.0 (Windows NT 6.1; WOW64) AppleWebK...</td>\n",
       "      <td>1103</td>\n",
       "    </tr>\n",
       "    <tr>\n",
       "      <th>9985</th>\n",
       "      <td>Maher Shahal Hash Baz</td>\n",
       "      <td>Logged In</td>\n",
       "      <td>Abegail</td>\n",
       "      <td>F</td>\n",
       "      <td>14</td>\n",
       "      <td>Wright</td>\n",
       "      <td>18.85995</td>\n",
       "      <td>paid</td>\n",
       "      <td>Champaign-Urbana, IL</td>\n",
       "      <td>PUT</td>\n",
       "      <td>NextSong</td>\n",
       "      <td>1.491414e+12</td>\n",
       "      <td>5576</td>\n",
       "      <td>Iyomanzai</td>\n",
       "      <td>200</td>\n",
       "      <td>1513848092284</td>\n",
       "      <td>Mozilla/5.0 (Macintosh; Intel Mac OS X 10.6; r...</td>\n",
       "      <td>974</td>\n",
       "    </tr>\n",
       "    <tr>\n",
       "      <th>9986</th>\n",
       "      <td>B.o.B</td>\n",
       "      <td>Logged In</td>\n",
       "      <td>Abegail</td>\n",
       "      <td>F</td>\n",
       "      <td>15</td>\n",
       "      <td>Wright</td>\n",
       "      <td>269.63546</td>\n",
       "      <td>paid</td>\n",
       "      <td>Champaign-Urbana, IL</td>\n",
       "      <td>PUT</td>\n",
       "      <td>NextSong</td>\n",
       "      <td>1.491414e+12</td>\n",
       "      <td>5576</td>\n",
       "      <td>Nothin' On You [feat. Bruno Mars] (Album Version)</td>\n",
       "      <td>200</td>\n",
       "      <td>1513848110284</td>\n",
       "      <td>Mozilla/5.0 (Macintosh; Intel Mac OS X 10.6; r...</td>\n",
       "      <td>974</td>\n",
       "    </tr>\n",
       "    <tr>\n",
       "      <th>9987</th>\n",
       "      <td>The Ruts</td>\n",
       "      <td>Logged In</td>\n",
       "      <td>Payton</td>\n",
       "      <td>F</td>\n",
       "      <td>89</td>\n",
       "      <td>Orozco</td>\n",
       "      <td>338.96444</td>\n",
       "      <td>paid</td>\n",
       "      <td>Houston-The Woodlands-Sugar Land, TX</td>\n",
       "      <td>PUT</td>\n",
       "      <td>NextSong</td>\n",
       "      <td>1.485261e+12</td>\n",
       "      <td>1775</td>\n",
       "      <td>West One (Shine On Me)</td>\n",
       "      <td>200</td>\n",
       "      <td>1513848148284</td>\n",
       "      <td>\"Mozilla/5.0 (Windows NT 6.1; WOW64) AppleWebK...</td>\n",
       "      <td>1776</td>\n",
       "    </tr>\n",
       "    <tr>\n",
       "      <th>9988</th>\n",
       "      <td>None</td>\n",
       "      <td>Logged In</td>\n",
       "      <td>Nino</td>\n",
       "      <td>M</td>\n",
       "      <td>0</td>\n",
       "      <td>Phillips</td>\n",
       "      <td>NaN</td>\n",
       "      <td>free</td>\n",
       "      <td>New York-Newark-Jersey City, NY-NJ-PA</td>\n",
       "      <td>GET</td>\n",
       "      <td>Home</td>\n",
       "      <td>1.495751e+12</td>\n",
       "      <td>360</td>\n",
       "      <td>None</td>\n",
       "      <td>200</td>\n",
       "      <td>1513848173284</td>\n",
       "      <td>\"Mozilla/5.0 (iPhone; CPU iPhone OS 7_1_2 like...</td>\n",
       "      <td>361</td>\n",
       "    </tr>\n",
       "    <tr>\n",
       "      <th>9989</th>\n",
       "      <td>Black Alien</td>\n",
       "      <td>Logged In</td>\n",
       "      <td>Olivia</td>\n",
       "      <td>F</td>\n",
       "      <td>23</td>\n",
       "      <td>Hoffman</td>\n",
       "      <td>240.32608</td>\n",
       "      <td>paid</td>\n",
       "      <td>Detroit-Warren-Dearborn, MI</td>\n",
       "      <td>PUT</td>\n",
       "      <td>NextSong</td>\n",
       "      <td>1.502414e+12</td>\n",
       "      <td>4809</td>\n",
       "      <td>From Hell Do CÃÂ©u</td>\n",
       "      <td>200</td>\n",
       "      <td>1513848193284</td>\n",
       "      <td>Mozilla/5.0 (Macintosh; Intel Mac OS X 10.9; r...</td>\n",
       "      <td>1430</td>\n",
       "    </tr>\n",
       "    <tr>\n",
       "      <th>9990</th>\n",
       "      <td>Kings Of Leon</td>\n",
       "      <td>Logged In</td>\n",
       "      <td>Ava</td>\n",
       "      <td>F</td>\n",
       "      <td>7</td>\n",
       "      <td>Walker</td>\n",
       "      <td>201.79546</td>\n",
       "      <td>paid</td>\n",
       "      <td>Springfield, MO</td>\n",
       "      <td>PUT</td>\n",
       "      <td>NextSong</td>\n",
       "      <td>1.498733e+12</td>\n",
       "      <td>5679</td>\n",
       "      <td>Revelry</td>\n",
       "      <td>200</td>\n",
       "      <td>1513848194284</td>\n",
       "      <td>\"Mozilla/5.0 (Windows NT 6.1; WOW64) AppleWebK...</td>\n",
       "      <td>1915</td>\n",
       "    </tr>\n",
       "    <tr>\n",
       "      <th>9991</th>\n",
       "      <td>None</td>\n",
       "      <td>Logged In</td>\n",
       "      <td>Carlisle</td>\n",
       "      <td>F</td>\n",
       "      <td>0</td>\n",
       "      <td>Long</td>\n",
       "      <td>NaN</td>\n",
       "      <td>paid</td>\n",
       "      <td>Trenton, NJ</td>\n",
       "      <td>GET</td>\n",
       "      <td>Home</td>\n",
       "      <td>1.504984e+12</td>\n",
       "      <td>7144</td>\n",
       "      <td>None</td>\n",
       "      <td>200</td>\n",
       "      <td>1513848222284</td>\n",
       "      <td>Mozilla/5.0 (Windows NT 6.3; WOW64; rv:31.0) G...</td>\n",
       "      <td>2481</td>\n",
       "    </tr>\n",
       "    <tr>\n",
       "      <th>9992</th>\n",
       "      <td>Vonray</td>\n",
       "      <td>Logged In</td>\n",
       "      <td>Oscar</td>\n",
       "      <td>M</td>\n",
       "      <td>68</td>\n",
       "      <td>Stafford</td>\n",
       "      <td>218.77506</td>\n",
       "      <td>paid</td>\n",
       "      <td>New York-Newark-Jersey City, NY-NJ-PA</td>\n",
       "      <td>PUT</td>\n",
       "      <td>NextSong</td>\n",
       "      <td>1.511648e+12</td>\n",
       "      <td>5431</td>\n",
       "      <td>Inside Out (LP Version)</td>\n",
       "      <td>200</td>\n",
       "      <td>1513848231284</td>\n",
       "      <td>Mozilla/5.0 (Macintosh; Intel Mac OS X 10.6; r...</td>\n",
       "      <td>1107</td>\n",
       "    </tr>\n",
       "    <tr>\n",
       "      <th>9993</th>\n",
       "      <td>Karsh Kale</td>\n",
       "      <td>Logged In</td>\n",
       "      <td>Landan</td>\n",
       "      <td>M</td>\n",
       "      <td>62</td>\n",
       "      <td>Thompson</td>\n",
       "      <td>311.66649</td>\n",
       "      <td>paid</td>\n",
       "      <td>Denver-Aurora-Lakewood, CO</td>\n",
       "      <td>PUT</td>\n",
       "      <td>NextSong</td>\n",
       "      <td>1.507118e+12</td>\n",
       "      <td>7006</td>\n",
       "      <td>Free Fall</td>\n",
       "      <td>200</td>\n",
       "      <td>1513848255284</td>\n",
       "      <td>\"Mozilla/5.0 (Macintosh; Intel Mac OS X 10_9_4...</td>\n",
       "      <td>649</td>\n",
       "    </tr>\n",
       "    <tr>\n",
       "      <th>9994</th>\n",
       "      <td>Radiohead</td>\n",
       "      <td>Logged In</td>\n",
       "      <td>Carl</td>\n",
       "      <td>M</td>\n",
       "      <td>23</td>\n",
       "      <td>Thomas</td>\n",
       "      <td>231.91465</td>\n",
       "      <td>paid</td>\n",
       "      <td>Chicago-Naperville-Elgin, IL-IN-WI</td>\n",
       "      <td>PUT</td>\n",
       "      <td>NextSong</td>\n",
       "      <td>1.505261e+12</td>\n",
       "      <td>4735</td>\n",
       "      <td>(Nice Dream)</td>\n",
       "      <td>200</td>\n",
       "      <td>1513848256284</td>\n",
       "      <td>Mozilla/5.0 (Macintosh; Intel Mac OS X 10.9; r...</td>\n",
       "      <td>1779</td>\n",
       "    </tr>\n",
       "    <tr>\n",
       "      <th>9995</th>\n",
       "      <td>Donald Fagen</td>\n",
       "      <td>Logged In</td>\n",
       "      <td>Cesar</td>\n",
       "      <td>M</td>\n",
       "      <td>0</td>\n",
       "      <td>Johnson</td>\n",
       "      <td>381.09995</td>\n",
       "      <td>paid</td>\n",
       "      <td>San Antonio-New Braunfels, TX</td>\n",
       "      <td>PUT</td>\n",
       "      <td>NextSong</td>\n",
       "      <td>1.513432e+12</td>\n",
       "      <td>6789</td>\n",
       "      <td>New Frontier (Album Version)</td>\n",
       "      <td>200</td>\n",
       "      <td>1513848289284</td>\n",
       "      <td>\"Mozilla/5.0 (Windows NT 6.3; WOW64) AppleWebK...</td>\n",
       "      <td>429</td>\n",
       "    </tr>\n",
       "    <tr>\n",
       "      <th>9996</th>\n",
       "      <td>Gym Class Heroes</td>\n",
       "      <td>Logged In</td>\n",
       "      <td>Judson</td>\n",
       "      <td>M</td>\n",
       "      <td>11</td>\n",
       "      <td>Kim</td>\n",
       "      <td>233.45587</td>\n",
       "      <td>paid</td>\n",
       "      <td>Worcester, MA-CT</td>\n",
       "      <td>PUT</td>\n",
       "      <td>NextSong</td>\n",
       "      <td>1.510668e+12</td>\n",
       "      <td>7116</td>\n",
       "      <td>Viva La White Girl (Album Version)</td>\n",
       "      <td>200</td>\n",
       "      <td>1513848303284</td>\n",
       "      <td>\"Mozilla/5.0 (Windows NT 6.1; WOW64) AppleWebK...</td>\n",
       "      <td>1103</td>\n",
       "    </tr>\n",
       "    <tr>\n",
       "      <th>9997</th>\n",
       "      <td>Black Eyed Peas</td>\n",
       "      <td>Logged In</td>\n",
       "      <td>Zachary</td>\n",
       "      <td>M</td>\n",
       "      <td>5</td>\n",
       "      <td>Bennett</td>\n",
       "      <td>289.12281</td>\n",
       "      <td>paid</td>\n",
       "      <td>Winston-Salem, NC</td>\n",
       "      <td>PUT</td>\n",
       "      <td>NextSong</td>\n",
       "      <td>1.511134e+12</td>\n",
       "      <td>1350</td>\n",
       "      <td>I Gotta Feeling</td>\n",
       "      <td>200</td>\n",
       "      <td>1513848305284</td>\n",
       "      <td>Mozilla/5.0 (Windows NT 6.1; WOW64; rv:31.0) G...</td>\n",
       "      <td>1351</td>\n",
       "    </tr>\n",
       "    <tr>\n",
       "      <th>9998</th>\n",
       "      <td>LMFAO</td>\n",
       "      <td>Logged In</td>\n",
       "      <td>Oakley</td>\n",
       "      <td>F</td>\n",
       "      <td>1</td>\n",
       "      <td>Baker</td>\n",
       "      <td>183.74485</td>\n",
       "      <td>free</td>\n",
       "      <td>Scranton--Wilkes-Barre--Hazleton, PA</td>\n",
       "      <td>PUT</td>\n",
       "      <td>NextSong</td>\n",
       "      <td>1.510535e+12</td>\n",
       "      <td>7014</td>\n",
       "      <td>Yes</td>\n",
       "      <td>200</td>\n",
       "      <td>1513848316284</td>\n",
       "      <td>\"Mozilla/5.0 (Macintosh; Intel Mac OS X 10_9_4...</td>\n",
       "      <td>480</td>\n",
       "    </tr>\n",
       "    <tr>\n",
       "      <th>9999</th>\n",
       "      <td>Led Zeppelin</td>\n",
       "      <td>Logged In</td>\n",
       "      <td>Jazlean</td>\n",
       "      <td>F</td>\n",
       "      <td>41</td>\n",
       "      <td>Watkins</td>\n",
       "      <td>190.40608</td>\n",
       "      <td>paid</td>\n",
       "      <td>Washington-Arlington-Alexandria, DC-VA-MD-WV</td>\n",
       "      <td>PUT</td>\n",
       "      <td>NextSong</td>\n",
       "      <td>1.501481e+12</td>\n",
       "      <td>4421</td>\n",
       "      <td>Tangerine  (Album Version)</td>\n",
       "      <td>200</td>\n",
       "      <td>1513848349284</td>\n",
       "      <td>Mozilla/5.0 (Windows NT 6.1; Trident/7.0; rv:1...</td>\n",
       "      <td>1881</td>\n",
       "    </tr>\n",
       "  </tbody>\n",
       "</table>\n",
       "<p>10000 rows × 18 columns</p>\n",
       "</div>"
      ],
      "text/plain": [
       "                                         artist        auth  firstName gender  \\\n",
       "0                                 Showaddywaddy   Logged In    Kenneth      M   \n",
       "1                                    Lily Allen   Logged In  Elizabeth      F   \n",
       "2     Cobra Starship Featuring Leighton Meester   Logged In       Vera      F   \n",
       "3                                    Alex Smoke   Logged In     Sophee      F   \n",
       "4                                          None   Logged In     Jordyn      F   \n",
       "5                                          None   Logged In     Jordyn      F   \n",
       "6                                        Redman   Logged In      Paige      F   \n",
       "7                               Ulrich Schnauss   Logged In    Gabriel      M   \n",
       "8                                          None   Logged In      Mason      M   \n",
       "9                                          None   Logged In  Alexander      M   \n",
       "10                                        Jay-Z   Logged In    Micheal      M   \n",
       "11                                  Evanescence   Logged In      Mason      M   \n",
       "12                              Scissor Sisters   Logged In     Justin      M   \n",
       "13                                 3 Doors Down   Logged In       Zoie      F   \n",
       "14                                George Younce   Logged In    Malachi      M   \n",
       "15                                       Aly-Us   Logged In       Vera      F   \n",
       "16                                         None   Logged In     Justin      M   \n",
       "17                                     BjÃÂ¶rk   Logged In      Elena      F   \n",
       "18                               David Bromberg   Logged In  Alexander      M   \n",
       "19                                   Nickelback   Logged In    Abigail      F   \n",
       "20                                Darius Rucker   Logged In    Kenneth      M   \n",
       "21                                Mayday Parade   Logged In      Paige      F   \n",
       "22                                 Simple Minds   Logged In      Ryder      M   \n",
       "23                                         None   Logged In     Justin      M   \n",
       "24                             Dropkick Murphys   Logged In     Eliana      F   \n",
       "25                                         None  Logged Out       None   None   \n",
       "26                              Milczenie Owiec   Logged In    Micheal      M   \n",
       "27                                   Jonny Lang   Logged In    Lillian      F   \n",
       "28                             Nicole C. Mullen   Logged In     Connor      M   \n",
       "29                                   The Police   Logged In      Mason      M   \n",
       "...                                         ...         ...        ...    ...   \n",
       "9970                               Matthew Dear   Logged In    Zachary      M   \n",
       "9971                       Kanye West / Mos Def   Logged In        Ava      F   \n",
       "9972                              Iron And Wine   Logged In     Landan      M   \n",
       "9973                               James Taylor   Logged In    Gillian      F   \n",
       "9974                                       Muse   Logged In      Jesus      M   \n",
       "9975                              Justin Bieber   Logged In      Oscar      M   \n",
       "9976                       Ghost in the Machine   Logged In     Oakley      F   \n",
       "9977                              The Lettermen   Logged In     Olivia      F   \n",
       "9978                               Yann Tiersen   Logged In    Jazlean      F   \n",
       "9979                               The Van Jets   Logged In     Landan      M   \n",
       "9980                               Marc Anthony   Logged In    Gillian      F   \n",
       "9981                               Taylor Swift   Logged In    Zachary      M   \n",
       "9982                        My Chemical Romance   Logged In       Carl      M   \n",
       "9983                          Alanis Morissette   Logged In    Jazlean      F   \n",
       "9984                            Milczenie Owiec   Logged In     Judson      M   \n",
       "9985                      Maher Shahal Hash Baz   Logged In    Abegail      F   \n",
       "9986                                      B.o.B   Logged In    Abegail      F   \n",
       "9987                                   The Ruts   Logged In     Payton      F   \n",
       "9988                                       None   Logged In       Nino      M   \n",
       "9989                                Black Alien   Logged In     Olivia      F   \n",
       "9990                              Kings Of Leon   Logged In        Ava      F   \n",
       "9991                                       None   Logged In   Carlisle      F   \n",
       "9992                                     Vonray   Logged In      Oscar      M   \n",
       "9993                                 Karsh Kale   Logged In     Landan      M   \n",
       "9994                                  Radiohead   Logged In       Carl      M   \n",
       "9995                               Donald Fagen   Logged In      Cesar      M   \n",
       "9996                           Gym Class Heroes   Logged In     Judson      M   \n",
       "9997                            Black Eyed Peas   Logged In    Zachary      M   \n",
       "9998                                      LMFAO   Logged In     Oakley      F   \n",
       "9999                               Led Zeppelin   Logged In    Jazlean      F   \n",
       "\n",
       "      itemInSession   lastName     length level  \\\n",
       "0               112   Matthews  232.93342  paid   \n",
       "1                 7      Chase  195.23873  free   \n",
       "2                 6  Blackwell  196.20526  paid   \n",
       "3                 8     Barker  405.99465  paid   \n",
       "4                 0      Jones        NaN  free   \n",
       "5                 1      Jones        NaN  free   \n",
       "6                 0     Hunter  154.53995  free   \n",
       "7                 2       Koch  402.93832  paid   \n",
       "8                 2     Thomas        NaN  paid   \n",
       "9                 0      Short        NaN  free   \n",
       "10               23     Morgan  223.26812  paid   \n",
       "11                3     Thomas  237.11302  paid   \n",
       "12               82      Jones  218.01751  paid   \n",
       "13               28     Wright  237.13914  paid   \n",
       "14                3       Lane  191.68608  free   \n",
       "15                7  Blackwell  383.58159  paid   \n",
       "16               83      Jones        NaN  paid   \n",
       "17                0     Newman  348.57751  free   \n",
       "18                1      Short  146.36363  free   \n",
       "19                4   Davidson  238.18404  paid   \n",
       "20              113   Matthews  206.00118  paid   \n",
       "21                1     Hunter  241.42322  free   \n",
       "22                1  Rodriguez  401.78893  free   \n",
       "23               84      Jones        NaN  paid   \n",
       "24                1     Thomas  159.76444  paid   \n",
       "25                0       None        NaN  free   \n",
       "26               24     Morgan  219.29751  paid   \n",
       "27                2       Ryan  226.27220  free   \n",
       "28               18  Gillespie  282.90567  paid   \n",
       "29                4     Thomas  289.22730  paid   \n",
       "...             ...        ...        ...   ...   \n",
       "9970              3    Bennett  190.27546  paid   \n",
       "9971              6     Walker  313.28608  paid   \n",
       "9972             60   Thompson  153.05098  paid   \n",
       "9973              3   Gonzalez  120.97261  paid   \n",
       "9974              1     Greene  297.01179  free   \n",
       "9975             67   Stafford  222.92853  paid   \n",
       "9976              0      Baker  285.23057  free   \n",
       "9977             22    Hoffman  159.42485  paid   \n",
       "9978             39    Watkins   47.56853  paid   \n",
       "9979             61   Thompson  210.70322  paid   \n",
       "9980              4   Gonzalez  305.03138  paid   \n",
       "9981              4    Bennett  245.36771  paid   \n",
       "9982             22     Thomas  195.52608  paid   \n",
       "9983             40    Watkins  267.25832  paid   \n",
       "9984             10        Kim  219.29751  paid   \n",
       "9985             14     Wright   18.85995  paid   \n",
       "9986             15     Wright  269.63546  paid   \n",
       "9987             89     Orozco  338.96444  paid   \n",
       "9988              0   Phillips        NaN  free   \n",
       "9989             23    Hoffman  240.32608  paid   \n",
       "9990              7     Walker  201.79546  paid   \n",
       "9991              0       Long        NaN  paid   \n",
       "9992             68   Stafford  218.77506  paid   \n",
       "9993             62   Thompson  311.66649  paid   \n",
       "9994             23     Thomas  231.91465  paid   \n",
       "9995              0    Johnson  381.09995  paid   \n",
       "9996             11        Kim  233.45587  paid   \n",
       "9997              5    Bennett  289.12281  paid   \n",
       "9998              1      Baker  183.74485  free   \n",
       "9999             41    Watkins  190.40608  paid   \n",
       "\n",
       "                                           location method      page  \\\n",
       "0                 Charlotte-Concord-Gastonia, NC-SC    PUT  NextSong   \n",
       "1                       Shreveport-Bossier City, LA    PUT  NextSong   \n",
       "2                                        Racine, WI    PUT  NextSong   \n",
       "3     San Luis Obispo-Paso Robles-Arroyo Grande, CA    PUT  NextSong   \n",
       "4                                      Syracuse, NY    GET      Home   \n",
       "5                                      Syracuse, NY    GET  Settings   \n",
       "6                                     Brownwood, TX    PUT  NextSong   \n",
       "7                                   Panama City, FL    PUT  NextSong   \n",
       "8                  Indianapolis-Carmel-Anderson, IN    GET      Home   \n",
       "9                                     Green Bay, WI    GET      Home   \n",
       "10                                     Sterling, CO    PUT  NextSong   \n",
       "11                 Indianapolis-Carmel-Anderson, IN    PUT  NextSong   \n",
       "12                                       Dayton, TN    PUT  NextSong   \n",
       "13               Chicago-Naperville-Elgin, IL-IN-WI    PUT  NextSong   \n",
       "14                                  Sioux Falls, SD    PUT  NextSong   \n",
       "15                                       Racine, WI    PUT  NextSong   \n",
       "16                                       Dayton, TN    GET      Home   \n",
       "17                   Boston-Cambridge-Newton, MA-NH    PUT  NextSong   \n",
       "18                                    Green Bay, WI    PUT  NextSong   \n",
       "19                         Lansing-East Lansing, MI    PUT  NextSong   \n",
       "20                Charlotte-Concord-Gastonia, NC-SC    PUT  NextSong   \n",
       "21                                    Brownwood, TX    PUT  NextSong   \n",
       "22                                     Freeport, IL    PUT  NextSong   \n",
       "23                                       Dayton, TN    GET  Settings   \n",
       "24                                    Knoxville, TN    PUT  NextSong   \n",
       "25                                             None    PUT     Login   \n",
       "26                                     Sterling, CO    PUT  NextSong   \n",
       "27                Charlotte-Concord-Gastonia, NC-SC    PUT  NextSong   \n",
       "28                       Santa Cruz-Watsonville, CA    PUT  NextSong   \n",
       "29                 Indianapolis-Carmel-Anderson, IN    PUT  NextSong   \n",
       "...                                             ...    ...       ...   \n",
       "9970                              Winston-Salem, NC    PUT  NextSong   \n",
       "9971                                Springfield, MO    PUT  NextSong   \n",
       "9972                     Denver-Aurora-Lakewood, CO    PUT  NextSong   \n",
       "9973               Indianapolis-Carmel-Anderson, IN    PUT  NextSong   \n",
       "9974                                    Sebring, FL    PUT  NextSong   \n",
       "9975          New York-Newark-Jersey City, NY-NJ-PA    PUT  NextSong   \n",
       "9976           Scranton--Wilkes-Barre--Hazleton, PA    PUT  NextSong   \n",
       "9977                    Detroit-Warren-Dearborn, MI    PUT  NextSong   \n",
       "9978   Washington-Arlington-Alexandria, DC-VA-MD-WV    PUT  NextSong   \n",
       "9979                     Denver-Aurora-Lakewood, CO    PUT  NextSong   \n",
       "9980               Indianapolis-Carmel-Anderson, IN    PUT  NextSong   \n",
       "9981                              Winston-Salem, NC    PUT  NextSong   \n",
       "9982             Chicago-Naperville-Elgin, IL-IN-WI    PUT  NextSong   \n",
       "9983   Washington-Arlington-Alexandria, DC-VA-MD-WV    PUT  NextSong   \n",
       "9984                               Worcester, MA-CT    PUT  NextSong   \n",
       "9985                           Champaign-Urbana, IL    PUT  NextSong   \n",
       "9986                           Champaign-Urbana, IL    PUT  NextSong   \n",
       "9987           Houston-The Woodlands-Sugar Land, TX    PUT  NextSong   \n",
       "9988          New York-Newark-Jersey City, NY-NJ-PA    GET      Home   \n",
       "9989                    Detroit-Warren-Dearborn, MI    PUT  NextSong   \n",
       "9990                                Springfield, MO    PUT  NextSong   \n",
       "9991                                    Trenton, NJ    GET      Home   \n",
       "9992          New York-Newark-Jersey City, NY-NJ-PA    PUT  NextSong   \n",
       "9993                     Denver-Aurora-Lakewood, CO    PUT  NextSong   \n",
       "9994             Chicago-Naperville-Elgin, IL-IN-WI    PUT  NextSong   \n",
       "9995                  San Antonio-New Braunfels, TX    PUT  NextSong   \n",
       "9996                               Worcester, MA-CT    PUT  NextSong   \n",
       "9997                              Winston-Salem, NC    PUT  NextSong   \n",
       "9998           Scranton--Wilkes-Barre--Hazleton, PA    PUT  NextSong   \n",
       "9999   Washington-Arlington-Alexandria, DC-VA-MD-WV    PUT  NextSong   \n",
       "\n",
       "      registration  sessionId  \\\n",
       "0     1.509380e+12       5132   \n",
       "1     1.512719e+12       5027   \n",
       "2     1.499856e+12       5516   \n",
       "3     1.513010e+12       2372   \n",
       "4     1.513649e+12       1746   \n",
       "5     1.513649e+12       1746   \n",
       "6     1.498414e+12       4406   \n",
       "7     1.505820e+12       1060   \n",
       "8     1.487016e+12       5661   \n",
       "9     1.513594e+12       3689   \n",
       "10    1.485051e+12       5175   \n",
       "11    1.487016e+12       5661   \n",
       "12    1.504707e+12       1175   \n",
       "13    1.512172e+12       2163   \n",
       "14    1.510109e+12       5272   \n",
       "15    1.499856e+12       5516   \n",
       "16    1.504707e+12       1175   \n",
       "17    1.513494e+12       2903   \n",
       "18    1.513594e+12       3689   \n",
       "19    1.513173e+12       4591   \n",
       "20    1.509380e+12       5132   \n",
       "21    1.498414e+12       4406   \n",
       "22    1.513668e+12       2941   \n",
       "23    1.504707e+12       1175   \n",
       "24    1.511496e+12       4686   \n",
       "25             NaN       5598   \n",
       "26    1.485051e+12       5175   \n",
       "27    1.510763e+12       4641   \n",
       "28    1.506639e+12       5698   \n",
       "29    1.487016e+12       5661   \n",
       "...            ...        ...   \n",
       "9970  1.511134e+12       1350   \n",
       "9971  1.498733e+12       5679   \n",
       "9972  1.507118e+12       7006   \n",
       "9973  1.493060e+12       6754   \n",
       "9974  1.513517e+12       6924   \n",
       "9975  1.511648e+12       5431   \n",
       "9976  1.510535e+12       7014   \n",
       "9977  1.502414e+12       4809   \n",
       "9978  1.501481e+12       4421   \n",
       "9979  1.507118e+12       7006   \n",
       "9980  1.493060e+12       6754   \n",
       "9981  1.511134e+12       1350   \n",
       "9982  1.505261e+12       4735   \n",
       "9983  1.501481e+12       4421   \n",
       "9984  1.510668e+12       7116   \n",
       "9985  1.491414e+12       5576   \n",
       "9986  1.491414e+12       5576   \n",
       "9987  1.485261e+12       1775   \n",
       "9988  1.495751e+12        360   \n",
       "9989  1.502414e+12       4809   \n",
       "9990  1.498733e+12       5679   \n",
       "9991  1.504984e+12       7144   \n",
       "9992  1.511648e+12       5431   \n",
       "9993  1.507118e+12       7006   \n",
       "9994  1.505261e+12       4735   \n",
       "9995  1.513432e+12       6789   \n",
       "9996  1.510668e+12       7116   \n",
       "9997  1.511134e+12       1350   \n",
       "9998  1.510535e+12       7014   \n",
       "9999  1.501481e+12       4421   \n",
       "\n",
       "                                                   song  status  \\\n",
       "0                             Christmas Tears Will Fall     200   \n",
       "1                                         Cheryl Tweedy     200   \n",
       "2     Good Girls Go Bad (Feat.Leighton Meester) (Alb...     200   \n",
       "3                                   Don't See The Point     200   \n",
       "4                                                  None     200   \n",
       "5                                                  None     200   \n",
       "6                                          Smoke Buddah     200   \n",
       "7                                             On My Own     200   \n",
       "8                                                  None     200   \n",
       "9                                                  None     200   \n",
       "10                    Heart Of The City (Ain't No Love)     200   \n",
       "11                                     Bring Me To Life     200   \n",
       "12                                                Laura     200   \n",
       "13                                     Here Without You     200   \n",
       "14             This Old House w/ When The Saints Medley     200   \n",
       "15                                 Follow Me (Club Mix)     200   \n",
       "16                                                 None     200   \n",
       "17                                                 Undo     200   \n",
       "18                                 Sheebeg And Sheemore     200   \n",
       "19                             Far Away (Album Version)     200   \n",
       "20                                   Be Wary Of A Woman     200   \n",
       "21    I'd Hate To Be You When People Find Out What T...     200   \n",
       "22                                        Oh Jungleland     200   \n",
       "23                                                 None     200   \n",
       "24                              Captain Kelly's Kitchen     200   \n",
       "25                                                 None     307   \n",
       "26                                              CIEÃÂ     200   \n",
       "27                                            Red Light     200   \n",
       "28                             Without You (LP Version)     200   \n",
       "29                                  Message In A Bottle     200   \n",
       "...                                                 ...     ...   \n",
       "9970                                      Neighborhoods     200   \n",
       "9971                                Drunk and Hot Girls     200   \n",
       "9972                                    Naked As We Can     200   \n",
       "9973                          Oh_ Susannah (LP Version)     200   \n",
       "9974                                 Stockholm Syndrome     200   \n",
       "9975                                Stuck In The Moment     200   \n",
       "9976                                          Lady Love     200   \n",
       "9977                       Put Your Head On My Shoulder     200   \n",
       "9978                                             Dishes     200   \n",
       "9979                                            Matador     200   \n",
       "9980                                Hasta Que Te Conoci     200   \n",
       "9981                                The Way I Loved You     200   \n",
       "9982                              Dead! (Album Version)     200   \n",
       "9983                     Head Over Feet (Album Version)     200   \n",
       "9984                                            CIEÃÂ     200   \n",
       "9985                                          Iyomanzai     200   \n",
       "9986  Nothin' On You [feat. Bruno Mars] (Album Version)     200   \n",
       "9987                             West One (Shine On Me)     200   \n",
       "9988                                               None     200   \n",
       "9989                                From Hell Do CÃÂ©u     200   \n",
       "9990                                            Revelry     200   \n",
       "9991                                               None     200   \n",
       "9992                            Inside Out (LP Version)     200   \n",
       "9993                                          Free Fall     200   \n",
       "9994                                       (Nice Dream)     200   \n",
       "9995                       New Frontier (Album Version)     200   \n",
       "9996                 Viva La White Girl (Album Version)     200   \n",
       "9997                                    I Gotta Feeling     200   \n",
       "9998                                                Yes     200   \n",
       "9999                         Tangerine  (Album Version)     200   \n",
       "\n",
       "                 ts                                          userAgent userId  \n",
       "0     1513720872284  \"Mozilla/5.0 (Windows NT 6.1) AppleWebKit/537....   1046  \n",
       "1     1513720878284  \"Mozilla/5.0 (Windows NT 6.1) AppleWebKit/537....   1000  \n",
       "2     1513720881284  \"Mozilla/5.0 (Macintosh; Intel Mac OS X 10_9_4...   2219  \n",
       "3     1513720905284  \"Mozilla/5.0 (Windows NT 6.1; WOW64) AppleWebK...   2373  \n",
       "4     1513720913284  \"Mozilla/5.0 (Macintosh; Intel Mac OS X 10_9_4...   1747  \n",
       "5     1513720932284  \"Mozilla/5.0 (Macintosh; Intel Mac OS X 10_9_4...   1747  \n",
       "6     1513720955284  \"Mozilla/5.0 (Macintosh; Intel Mac OS X 10_9_4...   1162  \n",
       "7     1513720959284  Mozilla/5.0 (Windows NT 6.1; WOW64; rv:32.0) G...   1061  \n",
       "8     1513720959284  Mozilla/5.0 (compatible; MSIE 10.0; Windows NT...    748  \n",
       "9     1513720980284  \"Mozilla/5.0 (Windows NT 6.1; WOW64) AppleWebK...    597  \n",
       "10    1513720983284  \"Mozilla/5.0 (Windows NT 6.1; WOW64) AppleWebK...   1806  \n",
       "11    1513720993284  Mozilla/5.0 (compatible; MSIE 10.0; Windows NT...    748  \n",
       "12    1513721031284  \"Mozilla/5.0 (Windows NT 6.1; WOW64) AppleWebK...   1176  \n",
       "13    1513721045284  \"Mozilla/5.0 (Macintosh; Intel Mac OS X 10_9_4...   2164  \n",
       "14    1513721058284  Mozilla/5.0 (Windows NT 6.2; WOW64; rv:31.0) G...   2146  \n",
       "15    1513721077284  \"Mozilla/5.0 (Macintosh; Intel Mac OS X 10_9_4...   2219  \n",
       "16    1513721088284  \"Mozilla/5.0 (Windows NT 6.1; WOW64) AppleWebK...   1176  \n",
       "17    1513721095284  Mozilla/5.0 (Windows NT 6.1; WOW64; rv:31.0) G...   2904  \n",
       "18    1513721097284  \"Mozilla/5.0 (Windows NT 6.1; WOW64) AppleWebK...    597  \n",
       "19    1513721104284  \"Mozilla/5.0 (Macintosh; Intel Mac OS X 10_9_4...    226  \n",
       "20    1513721104284  \"Mozilla/5.0 (Windows NT 6.1) AppleWebKit/537....   1046  \n",
       "21    1513721109284  \"Mozilla/5.0 (Macintosh; Intel Mac OS X 10_9_4...   1162  \n",
       "22    1513721127284  \"Mozilla/5.0 (Macintosh; Intel Mac OS X 10_9_4...   2942  \n",
       "23    1513721160284  \"Mozilla/5.0 (Windows NT 6.1; WOW64) AppleWebK...   1176  \n",
       "24    1513721182284  \"Mozilla/5.0 (Windows NT 6.1) AppleWebKit/537....   2779  \n",
       "25    1513721196284                                               None         \n",
       "26    1513721206284  \"Mozilla/5.0 (Windows NT 6.1; WOW64) AppleWebK...   1806  \n",
       "27    1513721207284  \"Mozilla/5.0 (Macintosh; Intel Mac OS X 10_9_4...   2887  \n",
       "28    1513721214284  \"Mozilla/5.0 (Windows NT 6.1) AppleWebKit/537....   1035  \n",
       "29    1513721230284  Mozilla/5.0 (compatible; MSIE 10.0; Windows NT...    748  \n",
       "...             ...                                                ...    ...  \n",
       "9970  1513847870284  Mozilla/5.0 (Windows NT 6.1; WOW64; rv:31.0) G...   1351  \n",
       "9971  1513847881284  \"Mozilla/5.0 (Windows NT 6.1; WOW64) AppleWebK...   1915  \n",
       "9972  1513847892284  \"Mozilla/5.0 (Macintosh; Intel Mac OS X 10_9_4...    649  \n",
       "9973  1513847928284  \"Mozilla/5.0 (Macintosh; Intel Mac OS X 10_9_4...    888  \n",
       "9974  1513847964284  \"Mozilla/5.0 (Macintosh; Intel Mac OS X 10_9_4...   1678  \n",
       "9975  1513848009284  Mozilla/5.0 (Macintosh; Intel Mac OS X 10.6; r...   1107  \n",
       "9976  1513848031284  \"Mozilla/5.0 (Macintosh; Intel Mac OS X 10_9_4...    480  \n",
       "9977  1513848034284  Mozilla/5.0 (Macintosh; Intel Mac OS X 10.9; r...   1430  \n",
       "9978  1513848035284  Mozilla/5.0 (Windows NT 6.1; Trident/7.0; rv:1...   1881  \n",
       "9979  1513848045284  \"Mozilla/5.0 (Macintosh; Intel Mac OS X 10_9_4...    649  \n",
       "9980  1513848048284  \"Mozilla/5.0 (Macintosh; Intel Mac OS X 10_9_4...    888  \n",
       "9981  1513848060284  Mozilla/5.0 (Windows NT 6.1; WOW64; rv:31.0) G...   1351  \n",
       "9982  1513848061284  Mozilla/5.0 (Macintosh; Intel Mac OS X 10.9; r...   1779  \n",
       "9983  1513848082284  Mozilla/5.0 (Windows NT 6.1; Trident/7.0; rv:1...   1881  \n",
       "9984  1513848084284  \"Mozilla/5.0 (Windows NT 6.1; WOW64) AppleWebK...   1103  \n",
       "9985  1513848092284  Mozilla/5.0 (Macintosh; Intel Mac OS X 10.6; r...    974  \n",
       "9986  1513848110284  Mozilla/5.0 (Macintosh; Intel Mac OS X 10.6; r...    974  \n",
       "9987  1513848148284  \"Mozilla/5.0 (Windows NT 6.1; WOW64) AppleWebK...   1776  \n",
       "9988  1513848173284  \"Mozilla/5.0 (iPhone; CPU iPhone OS 7_1_2 like...    361  \n",
       "9989  1513848193284  Mozilla/5.0 (Macintosh; Intel Mac OS X 10.9; r...   1430  \n",
       "9990  1513848194284  \"Mozilla/5.0 (Windows NT 6.1; WOW64) AppleWebK...   1915  \n",
       "9991  1513848222284  Mozilla/5.0 (Windows NT 6.3; WOW64; rv:31.0) G...   2481  \n",
       "9992  1513848231284  Mozilla/5.0 (Macintosh; Intel Mac OS X 10.6; r...   1107  \n",
       "9993  1513848255284  \"Mozilla/5.0 (Macintosh; Intel Mac OS X 10_9_4...    649  \n",
       "9994  1513848256284  Mozilla/5.0 (Macintosh; Intel Mac OS X 10.9; r...   1779  \n",
       "9995  1513848289284  \"Mozilla/5.0 (Windows NT 6.3; WOW64) AppleWebK...    429  \n",
       "9996  1513848303284  \"Mozilla/5.0 (Windows NT 6.1; WOW64) AppleWebK...   1103  \n",
       "9997  1513848305284  Mozilla/5.0 (Windows NT 6.1; WOW64; rv:31.0) G...   1351  \n",
       "9998  1513848316284  \"Mozilla/5.0 (Macintosh; Intel Mac OS X 10_9_4...    480  \n",
       "9999  1513848349284  Mozilla/5.0 (Windows NT 6.1; Trident/7.0; rv:1...   1881  \n",
       "\n",
       "[10000 rows x 18 columns]"
      ]
     },
     "execution_count": 8,
     "metadata": {},
     "output_type": "execute_result"
    }
   ],
   "source": [
    "#convert spark into pandas dataframe\n",
    "user_log.toPandas()"
   ]
  },
  {
   "cell_type": "code",
   "execution_count": 10,
   "metadata": {
    "ExecuteTime": {
     "end_time": "2019-10-30T06:53:30.884555Z",
     "start_time": "2019-10-30T06:53:30.378316Z"
    }
   },
   "outputs": [],
   "source": [
    "#saving into variable\n",
    "user_log_clean = user_log.toPandas()"
   ]
  },
  {
   "cell_type": "code",
   "execution_count": 11,
   "metadata": {
    "ExecuteTime": {
     "end_time": "2019-10-30T06:53:44.142090Z",
     "start_time": "2019-10-30T06:53:44.098209Z"
    }
   },
   "outputs": [
    {
     "data": {
      "text/html": [
       "<div>\n",
       "<style scoped>\n",
       "    .dataframe tbody tr th:only-of-type {\n",
       "        vertical-align: middle;\n",
       "    }\n",
       "\n",
       "    .dataframe tbody tr th {\n",
       "        vertical-align: top;\n",
       "    }\n",
       "\n",
       "    .dataframe thead th {\n",
       "        text-align: right;\n",
       "    }\n",
       "</style>\n",
       "<table border=\"1\" class=\"dataframe\">\n",
       "  <thead>\n",
       "    <tr style=\"text-align: right;\">\n",
       "      <th></th>\n",
       "      <th>artist</th>\n",
       "      <th>auth</th>\n",
       "      <th>firstName</th>\n",
       "      <th>gender</th>\n",
       "      <th>itemInSession</th>\n",
       "      <th>lastName</th>\n",
       "      <th>length</th>\n",
       "      <th>level</th>\n",
       "      <th>location</th>\n",
       "      <th>method</th>\n",
       "      <th>page</th>\n",
       "      <th>registration</th>\n",
       "      <th>sessionId</th>\n",
       "      <th>song</th>\n",
       "      <th>status</th>\n",
       "      <th>ts</th>\n",
       "      <th>userAgent</th>\n",
       "      <th>userId</th>\n",
       "    </tr>\n",
       "  </thead>\n",
       "  <tbody>\n",
       "    <tr>\n",
       "      <th>0</th>\n",
       "      <td>Showaddywaddy</td>\n",
       "      <td>Logged In</td>\n",
       "      <td>Kenneth</td>\n",
       "      <td>M</td>\n",
       "      <td>112</td>\n",
       "      <td>Matthews</td>\n",
       "      <td>232.93342</td>\n",
       "      <td>paid</td>\n",
       "      <td>Charlotte-Concord-Gastonia, NC-SC</td>\n",
       "      <td>PUT</td>\n",
       "      <td>NextSong</td>\n",
       "      <td>1.509380e+12</td>\n",
       "      <td>5132</td>\n",
       "      <td>Christmas Tears Will Fall</td>\n",
       "      <td>200</td>\n",
       "      <td>1513720872284</td>\n",
       "      <td>\"Mozilla/5.0 (Windows NT 6.1) AppleWebKit/537....</td>\n",
       "      <td>1046</td>\n",
       "    </tr>\n",
       "    <tr>\n",
       "      <th>1</th>\n",
       "      <td>Lily Allen</td>\n",
       "      <td>Logged In</td>\n",
       "      <td>Elizabeth</td>\n",
       "      <td>F</td>\n",
       "      <td>7</td>\n",
       "      <td>Chase</td>\n",
       "      <td>195.23873</td>\n",
       "      <td>free</td>\n",
       "      <td>Shreveport-Bossier City, LA</td>\n",
       "      <td>PUT</td>\n",
       "      <td>NextSong</td>\n",
       "      <td>1.512719e+12</td>\n",
       "      <td>5027</td>\n",
       "      <td>Cheryl Tweedy</td>\n",
       "      <td>200</td>\n",
       "      <td>1513720878284</td>\n",
       "      <td>\"Mozilla/5.0 (Windows NT 6.1) AppleWebKit/537....</td>\n",
       "      <td>1000</td>\n",
       "    </tr>\n",
       "    <tr>\n",
       "      <th>2</th>\n",
       "      <td>Cobra Starship Featuring Leighton Meester</td>\n",
       "      <td>Logged In</td>\n",
       "      <td>Vera</td>\n",
       "      <td>F</td>\n",
       "      <td>6</td>\n",
       "      <td>Blackwell</td>\n",
       "      <td>196.20526</td>\n",
       "      <td>paid</td>\n",
       "      <td>Racine, WI</td>\n",
       "      <td>PUT</td>\n",
       "      <td>NextSong</td>\n",
       "      <td>1.499856e+12</td>\n",
       "      <td>5516</td>\n",
       "      <td>Good Girls Go Bad (Feat.Leighton Meester) (Alb...</td>\n",
       "      <td>200</td>\n",
       "      <td>1513720881284</td>\n",
       "      <td>\"Mozilla/5.0 (Macintosh; Intel Mac OS X 10_9_4...</td>\n",
       "      <td>2219</td>\n",
       "    </tr>\n",
       "    <tr>\n",
       "      <th>3</th>\n",
       "      <td>Alex Smoke</td>\n",
       "      <td>Logged In</td>\n",
       "      <td>Sophee</td>\n",
       "      <td>F</td>\n",
       "      <td>8</td>\n",
       "      <td>Barker</td>\n",
       "      <td>405.99465</td>\n",
       "      <td>paid</td>\n",
       "      <td>San Luis Obispo-Paso Robles-Arroyo Grande, CA</td>\n",
       "      <td>PUT</td>\n",
       "      <td>NextSong</td>\n",
       "      <td>1.513010e+12</td>\n",
       "      <td>2372</td>\n",
       "      <td>Don't See The Point</td>\n",
       "      <td>200</td>\n",
       "      <td>1513720905284</td>\n",
       "      <td>\"Mozilla/5.0 (Windows NT 6.1; WOW64) AppleWebK...</td>\n",
       "      <td>2373</td>\n",
       "    </tr>\n",
       "    <tr>\n",
       "      <th>4</th>\n",
       "      <td>None</td>\n",
       "      <td>Logged In</td>\n",
       "      <td>Jordyn</td>\n",
       "      <td>F</td>\n",
       "      <td>0</td>\n",
       "      <td>Jones</td>\n",
       "      <td>NaN</td>\n",
       "      <td>free</td>\n",
       "      <td>Syracuse, NY</td>\n",
       "      <td>GET</td>\n",
       "      <td>Home</td>\n",
       "      <td>1.513649e+12</td>\n",
       "      <td>1746</td>\n",
       "      <td>None</td>\n",
       "      <td>200</td>\n",
       "      <td>1513720913284</td>\n",
       "      <td>\"Mozilla/5.0 (Macintosh; Intel Mac OS X 10_9_4...</td>\n",
       "      <td>1747</td>\n",
       "    </tr>\n",
       "  </tbody>\n",
       "</table>\n",
       "</div>"
      ],
      "text/plain": [
       "                                      artist       auth  firstName gender  \\\n",
       "0                              Showaddywaddy  Logged In    Kenneth      M   \n",
       "1                                 Lily Allen  Logged In  Elizabeth      F   \n",
       "2  Cobra Starship Featuring Leighton Meester  Logged In       Vera      F   \n",
       "3                                 Alex Smoke  Logged In     Sophee      F   \n",
       "4                                       None  Logged In     Jordyn      F   \n",
       "\n",
       "   itemInSession   lastName     length level  \\\n",
       "0            112   Matthews  232.93342  paid   \n",
       "1              7      Chase  195.23873  free   \n",
       "2              6  Blackwell  196.20526  paid   \n",
       "3              8     Barker  405.99465  paid   \n",
       "4              0      Jones        NaN  free   \n",
       "\n",
       "                                        location method      page  \\\n",
       "0              Charlotte-Concord-Gastonia, NC-SC    PUT  NextSong   \n",
       "1                    Shreveport-Bossier City, LA    PUT  NextSong   \n",
       "2                                     Racine, WI    PUT  NextSong   \n",
       "3  San Luis Obispo-Paso Robles-Arroyo Grande, CA    PUT  NextSong   \n",
       "4                                   Syracuse, NY    GET      Home   \n",
       "\n",
       "   registration  sessionId                                               song  \\\n",
       "0  1.509380e+12       5132                          Christmas Tears Will Fall   \n",
       "1  1.512719e+12       5027                                      Cheryl Tweedy   \n",
       "2  1.499856e+12       5516  Good Girls Go Bad (Feat.Leighton Meester) (Alb...   \n",
       "3  1.513010e+12       2372                                Don't See The Point   \n",
       "4  1.513649e+12       1746                                               None   \n",
       "\n",
       "   status             ts                                          userAgent  \\\n",
       "0     200  1513720872284  \"Mozilla/5.0 (Windows NT 6.1) AppleWebKit/537....   \n",
       "1     200  1513720878284  \"Mozilla/5.0 (Windows NT 6.1) AppleWebKit/537....   \n",
       "2     200  1513720881284  \"Mozilla/5.0 (Macintosh; Intel Mac OS X 10_9_4...   \n",
       "3     200  1513720905284  \"Mozilla/5.0 (Windows NT 6.1; WOW64) AppleWebK...   \n",
       "4     200  1513720913284  \"Mozilla/5.0 (Macintosh; Intel Mac OS X 10_9_4...   \n",
       "\n",
       "  userId  \n",
       "0   1046  \n",
       "1   1000  \n",
       "2   2219  \n",
       "3   2373  \n",
       "4   1747  "
      ]
     },
     "execution_count": 11,
     "metadata": {},
     "output_type": "execute_result"
    }
   ],
   "source": [
    "#as same as pandas you can check first five rows\n",
    "user_log_clean.head()"
   ]
  },
  {
   "cell_type": "code",
   "execution_count": 13,
   "metadata": {
    "ExecuteTime": {
     "end_time": "2019-10-30T06:55:06.527911Z",
     "start_time": "2019-10-30T06:55:03.200063Z"
    }
   },
   "outputs": [
    {
     "data": {
      "text/plain": [
       "DataFrame[summary: string, artist: string, auth: string, firstName: string, gender: string, itemInSession: string, lastName: string, length: string, level: string, location: string, method: string, page: string, registration: string, sessionId: string, song: string, status: string, ts: string, userAgent: string, userId: string]"
      ]
     },
     "execution_count": 13,
     "metadata": {},
     "output_type": "execute_result"
    }
   ],
   "source": [
    "#describing your data, remembered using lazy function so you can't see the actual data\n",
    "user_log.describe()"
   ]
  },
  {
   "cell_type": "code",
   "execution_count": 14,
   "metadata": {
    "ExecuteTime": {
     "end_time": "2019-10-30T06:56:19.586350Z",
     "start_time": "2019-10-30T06:56:19.312080Z"
    }
   },
   "outputs": [
    {
     "name": "stdout",
     "output_type": "stream",
     "text": [
      "+-------------+---------+---------+------+-------------+--------+---------+-----+--------------------+------+--------+-------------+---------+--------------------+------+-------------+--------------------+------+\n",
      "|       artist|     auth|firstName|gender|itemInSession|lastName|   length|level|            location|method|    page| registration|sessionId|                song|status|           ts|           userAgent|userId|\n",
      "+-------------+---------+---------+------+-------------+--------+---------+-----+--------------------+------+--------+-------------+---------+--------------------+------+-------------+--------------------+------+\n",
      "|Showaddywaddy|Logged In|  Kenneth|     M|          112|Matthews|232.93342| paid|Charlotte-Concord...|   PUT|NextSong|1509380319284|     5132|Christmas Tears W...|   200|1513720872284|\"Mozilla/5.0 (Win...|  1046|\n",
      "|   Lily Allen|Logged In|Elizabeth|     F|            7|   Chase|195.23873| free|Shreveport-Bossie...|   PUT|NextSong|1512718541284|     5027|       Cheryl Tweedy|   200|1513720878284|\"Mozilla/5.0 (Win...|  1000|\n",
      "+-------------+---------+---------+------+-------------+--------+---------+-----+--------------------+------+--------+-------------+---------+--------------------+------+-------------+--------------------+------+\n",
      "only showing top 2 rows\n",
      "\n"
     ]
    }
   ],
   "source": [
    "#check first two rows\n",
    "user_log.show(n=2)"
   ]
  },
  {
   "cell_type": "code",
   "execution_count": 15,
   "metadata": {
    "ExecuteTime": {
     "end_time": "2019-10-30T06:57:47.807472Z",
     "start_time": "2019-10-30T06:57:47.641917Z"
    }
   },
   "outputs": [
    {
     "data": {
      "text/plain": [
       "[Row(artist='Showaddywaddy', auth='Logged In', firstName='Kenneth', gender='M', itemInSession=112, lastName='Matthews', length=232.93342, level='paid', location='Charlotte-Concord-Gastonia, NC-SC', method='PUT', page='NextSong', registration=1509380319284, sessionId=5132, song='Christmas Tears Will Fall', status=200, ts=1513720872284, userAgent='\"Mozilla/5.0 (Windows NT 6.1) AppleWebKit/537.36 (KHTML, like Gecko) Chrome/36.0.1985.125 Safari/537.36\"', userId='1046'),\n",
       " Row(artist='Lily Allen', auth='Logged In', firstName='Elizabeth', gender='F', itemInSession=7, lastName='Chase', length=195.23873, level='free', location='Shreveport-Bossier City, LA', method='PUT', page='NextSong', registration=1512718541284, sessionId=5027, song='Cheryl Tweedy', status=200, ts=1513720878284, userAgent='\"Mozilla/5.0 (Windows NT 6.1) AppleWebKit/537.36 (KHTML, like Gecko) Chrome/36.0.1985.143 Safari/537.36\"', userId='1000'),\n",
       " Row(artist='Cobra Starship Featuring Leighton Meester', auth='Logged In', firstName='Vera', gender='F', itemInSession=6, lastName='Blackwell', length=196.20526, level='paid', location='Racine, WI', method='PUT', page='NextSong', registration=1499855749284, sessionId=5516, song='Good Girls Go Bad (Feat.Leighton Meester) (Album Version)', status=200, ts=1513720881284, userAgent='\"Mozilla/5.0 (Macintosh; Intel Mac OS X 10_9_4) AppleWebKit/537.78.2 (KHTML, like Gecko) Version/7.0.6 Safari/537.78.2\"', userId='2219')]"
      ]
     },
     "execution_count": 15,
     "metadata": {},
     "output_type": "execute_result"
    }
   ],
   "source": [
    "#as same as before, check three rows\n",
    "user_log.take(3)"
   ]
  },
  {
   "cell_type": "code",
   "execution_count": 16,
   "metadata": {
    "ExecuteTime": {
     "end_time": "2019-10-30T07:01:53.099842Z",
     "start_time": "2019-10-30T07:01:53.095847Z"
    }
   },
   "outputs": [],
   "source": [
    "#create our out_path\n",
    "out_path = 'sparkify_log_file.csv'"
   ]
  },
  {
   "cell_type": "code",
   "execution_count": null,
   "metadata": {
    "ExecuteTime": {
     "end_time": "2019-10-30T07:04:05.428569Z",
     "start_time": "2019-10-30T07:04:05.100035Z"
    }
   },
   "outputs": [],
   "source": [
    "#user_log.write.save(out_path, format='csv', header=True)"
   ]
  },
  {
   "cell_type": "code",
   "execution_count": 21,
   "metadata": {
    "ExecuteTime": {
     "end_time": "2019-10-30T07:05:00.608890Z",
     "start_time": "2019-10-30T07:05:00.005224Z"
    }
   },
   "outputs": [],
   "source": [
    "#save your data into csv\n",
    "user_log.toPandas().to_csv(out_path)"
   ]
  },
  {
   "cell_type": "markdown",
   "metadata": {},
   "source": [
    "---"
   ]
  },
  {
   "cell_type": "code",
   "execution_count": 26,
   "metadata": {
    "ExecuteTime": {
     "end_time": "2019-10-30T07:39:51.867754Z",
     "start_time": "2019-10-30T07:39:51.399005Z"
    }
   },
   "outputs": [
    {
     "name": "stdout",
     "output_type": "stream",
     "text": [
      "+-------+-----------------+\n",
      "|summary|           artist|\n",
      "+-------+-----------------+\n",
      "|  count|             8347|\n",
      "|   mean|            461.0|\n",
      "| stddev|            300.0|\n",
      "|    min|              !!!|\n",
      "|    max|ÃÂlafur Arnalds|\n",
      "+-------+-----------------+\n",
      "\n"
     ]
    }
   ],
   "source": [
    "#check statistical value of column artist\n",
    "user_log.describe(\"artist\").show()"
   ]
  },
  {
   "cell_type": "code",
   "execution_count": 27,
   "metadata": {
    "ExecuteTime": {
     "end_time": "2019-10-30T07:41:45.086074Z",
     "start_time": "2019-10-30T07:41:44.774609Z"
    }
   },
   "outputs": [
    {
     "name": "stdout",
     "output_type": "stream",
     "text": [
      "+-------+------------------+\n",
      "|summary|         sessionId|\n",
      "+-------+------------------+\n",
      "|  count|             10000|\n",
      "|   mean|         4436.7511|\n",
      "| stddev|2043.1281541827561|\n",
      "|    min|                 9|\n",
      "|    max|              7144|\n",
      "+-------+------------------+\n",
      "\n"
     ]
    }
   ],
   "source": [
    "#checking statistical value of sessionId\n",
    "user_log.describe(\"sessionId\").show()"
   ]
  },
  {
   "cell_type": "code",
   "execution_count": 28,
   "metadata": {
    "ExecuteTime": {
     "end_time": "2019-10-30T07:42:22.438780Z",
     "start_time": "2019-10-30T07:42:22.163967Z"
    }
   },
   "outputs": [
    {
     "data": {
      "text/plain": [
       "10000"
      ]
     },
     "execution_count": 28,
     "metadata": {},
     "output_type": "execute_result"
    }
   ],
   "source": [
    "#count how many of our data\n",
    "user_log.count()"
   ]
  },
  {
   "cell_type": "code",
   "execution_count": 32,
   "metadata": {
    "ExecuteTime": {
     "end_time": "2019-10-30T07:43:52.724726Z",
     "start_time": "2019-10-30T07:43:51.513635Z"
    }
   },
   "outputs": [
    {
     "name": "stdout",
     "output_type": "stream",
     "text": [
      "+----------------+\n",
      "|            page|\n",
      "+----------------+\n",
      "|           About|\n",
      "|       Downgrade|\n",
      "|           Error|\n",
      "|            Help|\n",
      "|            Home|\n",
      "|           Login|\n",
      "|          Logout|\n",
      "|        NextSong|\n",
      "|   Save Settings|\n",
      "|        Settings|\n",
      "|Submit Downgrade|\n",
      "|  Submit Upgrade|\n",
      "|         Upgrade|\n",
      "+----------------+\n",
      "\n"
     ]
    }
   ],
   "source": [
    "user_log.select(\"page\").dropDuplicates().sort(\"page\").show()\n",
    "#first, select page columns,\n",
    "#then drop some duplicates\n",
    "#sorting based on page itself, and check the data"
   ]
  },
  {
   "cell_type": "code",
   "execution_count": 36,
   "metadata": {
    "ExecuteTime": {
     "end_time": "2019-10-30T07:46:39.800295Z",
     "start_time": "2019-10-30T07:46:39.586865Z"
    }
   },
   "outputs": [
    {
     "data": {
      "text/plain": [
       "[Row(userId='1046', firstname='Kenneth', page='NextSong', song='Christmas Tears Will Fall'),\n",
       " Row(userId='1046', firstname='Kenneth', page='NextSong', song='Be Wary Of A Woman'),\n",
       " Row(userId='1046', firstname='Kenneth', page='NextSong', song='Public Enemy No.1'),\n",
       " Row(userId='1046', firstname='Kenneth', page='NextSong', song='Reign Of The Tyrants'),\n",
       " Row(userId='1046', firstname='Kenneth', page='NextSong', song='Father And Son'),\n",
       " Row(userId='1046', firstname='Kenneth', page='NextSong', song='No. 5'),\n",
       " Row(userId='1046', firstname='Kenneth', page='NextSong', song='Seventeen'),\n",
       " Row(userId='1046', firstname='Kenneth', page='Home', song=None),\n",
       " Row(userId='1046', firstname='Kenneth', page='NextSong', song='War on war'),\n",
       " Row(userId='1046', firstname='Kenneth', page='NextSong', song='Killermont Street'),\n",
       " Row(userId='1046', firstname='Kenneth', page='NextSong', song='Black & Blue'),\n",
       " Row(userId='1046', firstname='Kenneth', page='Logout', song=None),\n",
       " Row(userId='1046', firstname='Kenneth', page='Home', song=None),\n",
       " Row(userId='1046', firstname='Kenneth', page='NextSong', song='Heads Will Roll'),\n",
       " Row(userId='1046', firstname='Kenneth', page='NextSong', song='Bleed It Out [Live At Milton Keynes]'),\n",
       " Row(userId='1046', firstname='Kenneth', page='NextSong', song='Clocks'),\n",
       " Row(userId='1046', firstname='Kenneth', page='NextSong', song='Love Rain'),\n",
       " Row(userId='1046', firstname='Kenneth', page='NextSong', song=\"Ry Ry's Song (Album Version)\"),\n",
       " Row(userId='1046', firstname='Kenneth', page='NextSong', song='The Invisible Man'),\n",
       " Row(userId='1046', firstname='Kenneth', page='NextSong', song='Catch You Baby (Steve Pitron & Max Sanna Radio Edit)'),\n",
       " Row(userId='1046', firstname='Kenneth', page='NextSong', song='Ask The Mountains'),\n",
       " Row(userId='1046', firstname='Kenneth', page='NextSong', song='Given Up (Album Version)'),\n",
       " Row(userId='1046', firstname='Kenneth', page='NextSong', song='El Cuatrero'),\n",
       " Row(userId='1046', firstname='Kenneth', page='NextSong', song='Hero/Heroine'),\n",
       " Row(userId='1046', firstname='Kenneth', page='NextSong', song='Spring'),\n",
       " Row(userId='1046', firstname='Kenneth', page='NextSong', song='Rising Moon'),\n",
       " Row(userId='1046', firstname='Kenneth', page='NextSong', song='Tough Little Boys'),\n",
       " Row(userId='1046', firstname='Kenneth', page='NextSong', song=\"Qu'Est-Ce Que T'Es Belle\"),\n",
       " Row(userId='1046', firstname='Kenneth', page='NextSong', song='Secrets'),\n",
       " Row(userId='1046', firstname='Kenneth', page='NextSong', song='Under The Gun')]"
      ]
     },
     "execution_count": 36,
     "metadata": {},
     "output_type": "execute_result"
    }
   ],
   "source": [
    "user_log.select([\"userId\", \"firstname\", \"page\", \"song\"]).where(user_log[\"userId\"] == \"1046\").collect()\n",
    "#first, select columns,\n",
    "#based on userId equals 1046"
   ]
  },
  {
   "cell_type": "code",
   "execution_count": 37,
   "metadata": {
    "ExecuteTime": {
     "end_time": "2019-10-30T08:09:14.541776Z",
     "start_time": "2019-10-30T08:09:13.736886Z"
    }
   },
   "outputs": [],
   "source": [
    "from pyspark.sql.functions import udf\n",
    "from pyspark.sql.types import StringType\n",
    "from pyspark.sql.types import IntegerType\n",
    "from pyspark.sql.functions import desc\n",
    "from pyspark.sql.functions import asc\n",
    "from pyspark.sql.functions import sum as Fsum\n",
    "\n",
    "import datetime\n",
    "\n",
    "import numpy as np\n",
    "import pandas as pd\n",
    "%matplotlib inline\n",
    "import matplotlib.pyplot as plt"
   ]
  },
  {
   "cell_type": "code",
   "execution_count": 38,
   "metadata": {
    "ExecuteTime": {
     "end_time": "2019-10-30T08:10:45.084692Z",
     "start_time": "2019-10-30T08:10:45.075171Z"
    }
   },
   "outputs": [],
   "source": [
    "get_hour = udf(lambda times: datetime.datetime.fromtimestamp(times/ 1000).hour)\n",
    "#getting hour of the data"
   ]
  },
  {
   "cell_type": "code",
   "execution_count": 41,
   "metadata": {
    "ExecuteTime": {
     "end_time": "2019-10-30T08:11:01.076531Z",
     "start_time": "2019-10-30T08:11:01.066660Z"
    }
   },
   "outputs": [
    {
     "data": {
      "text/plain": [
       "<function __main__.<lambda>(times)>"
      ]
     },
     "execution_count": 41,
     "metadata": {},
     "output_type": "execute_result"
    }
   ],
   "source": [
    "get_hour\n",
    "#of course you can't use this"
   ]
  },
  {
   "cell_type": "code",
   "execution_count": 43,
   "metadata": {
    "ExecuteTime": {
     "end_time": "2019-10-30T08:12:16.273654Z",
     "start_time": "2019-10-30T08:12:16.102148Z"
    }
   },
   "outputs": [],
   "source": [
    "user_log = user_log.withColumn(\"hour\", get_hour(user_log.ts))\n",
    "#create new data with additional column of hour"
   ]
  },
  {
   "cell_type": "code",
   "execution_count": 45,
   "metadata": {
    "ExecuteTime": {
     "end_time": "2019-10-30T08:12:39.506075Z",
     "start_time": "2019-10-30T08:12:35.449506Z"
    }
   },
   "outputs": [
    {
     "name": "stdout",
     "output_type": "stream",
     "text": [
      "+--------------------+---------+---------+------+-------------+---------+---------+-----+--------------------+------+--------+-------------+---------+--------------------+------+-------------+--------------------+------+----+\n",
      "|              artist|     auth|firstName|gender|itemInSession| lastName|   length|level|            location|method|    page| registration|sessionId|                song|status|           ts|           userAgent|userId|hour|\n",
      "+--------------------+---------+---------+------+-------------+---------+---------+-----+--------------------+------+--------+-------------+---------+--------------------+------+-------------+--------------------+------+----+\n",
      "|       Showaddywaddy|Logged In|  Kenneth|     M|          112| Matthews|232.93342| paid|Charlotte-Concord...|   PUT|NextSong|1509380319284|     5132|Christmas Tears W...|   200|1513720872284|\"Mozilla/5.0 (Win...|  1046|   5|\n",
      "|          Lily Allen|Logged In|Elizabeth|     F|            7|    Chase|195.23873| free|Shreveport-Bossie...|   PUT|NextSong|1512718541284|     5027|       Cheryl Tweedy|   200|1513720878284|\"Mozilla/5.0 (Win...|  1000|   5|\n",
      "|Cobra Starship Fe...|Logged In|     Vera|     F|            6|Blackwell|196.20526| paid|          Racine, WI|   PUT|NextSong|1499855749284|     5516|Good Girls Go Bad...|   200|1513720881284|\"Mozilla/5.0 (Mac...|  2219|   5|\n",
      "|          Alex Smoke|Logged In|   Sophee|     F|            8|   Barker|405.99465| paid|San Luis Obispo-P...|   PUT|NextSong|1513009647284|     2372| Don't See The Point|   200|1513720905284|\"Mozilla/5.0 (Win...|  2373|   5|\n",
      "|                null|Logged In|   Jordyn|     F|            0|    Jones|     null| free|        Syracuse, NY|   GET|    Home|1513648531284|     1746|                null|   200|1513720913284|\"Mozilla/5.0 (Mac...|  1747|   5|\n",
      "|                null|Logged In|   Jordyn|     F|            1|    Jones|     null| free|        Syracuse, NY|   GET|Settings|1513648531284|     1746|                null|   200|1513720932284|\"Mozilla/5.0 (Mac...|  1747|   5|\n",
      "|              Redman|Logged In|    Paige|     F|            0|   Hunter|154.53995| free|       Brownwood, TX|   PUT|NextSong|1498414068284|     4406|        Smoke Buddah|   200|1513720955284|\"Mozilla/5.0 (Mac...|  1162|   5|\n",
      "|     Ulrich Schnauss|Logged In|  Gabriel|     M|            2|     Koch|402.93832| paid|     Panama City, FL|   PUT|NextSong|1505820418284|     1060|           On My Own|   200|1513720959284|Mozilla/5.0 (Wind...|  1061|   5|\n",
      "|                null|Logged In|    Mason|     M|            2|   Thomas|     null| paid|Indianapolis-Carm...|   GET|    Home|1487015656284|     5661|                null|   200|1513720959284|Mozilla/5.0 (comp...|   748|   5|\n",
      "|                null|Logged In|Alexander|     M|            0|    Short|     null| free|       Green Bay, WI|   GET|    Home|1513594398284|     3689|                null|   200|1513720980284|\"Mozilla/5.0 (Win...|   597|   5|\n",
      "|               Jay-Z|Logged In|  Micheal|     M|           23|   Morgan|223.26812| paid|        Sterling, CO|   PUT|NextSong|1485051492284|     5175|Heart Of The City...|   200|1513720983284|\"Mozilla/5.0 (Win...|  1806|   5|\n",
      "|         Evanescence|Logged In|    Mason|     M|            3|   Thomas|237.11302| paid|Indianapolis-Carm...|   PUT|NextSong|1487015656284|     5661|    Bring Me To Life|   200|1513720993284|Mozilla/5.0 (comp...|   748|   5|\n",
      "|     Scissor Sisters|Logged In|   Justin|     M|           82|    Jones|218.01751| paid|          Dayton, TN|   PUT|NextSong|1504706730284|     1175|               Laura|   200|1513721031284|\"Mozilla/5.0 (Win...|  1176|   5|\n",
      "|        3 Doors Down|Logged In|     Zoie|     F|           28|   Wright|237.13914| paid|Chicago-Napervill...|   PUT|NextSong|1512172030284|     2163|    Here Without You|   200|1513721045284|\"Mozilla/5.0 (Mac...|  2164|   5|\n",
      "|       George Younce|Logged In|  Malachi|     M|            3|     Lane|191.68608| free|     Sioux Falls, SD|   PUT|NextSong|1510109243284|     5272|This Old House w/...|   200|1513721058284|Mozilla/5.0 (Wind...|  2146|   5|\n",
      "|              Aly-Us|Logged In|     Vera|     F|            7|Blackwell|383.58159| paid|          Racine, WI|   PUT|NextSong|1499855749284|     5516|Follow Me (Club Mix)|   200|1513721077284|\"Mozilla/5.0 (Mac...|  2219|   5|\n",
      "|                null|Logged In|   Justin|     M|           83|    Jones|     null| paid|          Dayton, TN|   GET|    Home|1504706730284|     1175|                null|   200|1513721088284|\"Mozilla/5.0 (Win...|  1176|   5|\n",
      "|            BjÃÂ¶rk|Logged In|    Elena|     F|            0|   Newman|348.57751| free|Boston-Cambridge-...|   PUT|NextSong|1513494341284|     2903|                Undo|   200|1513721095284|Mozilla/5.0 (Wind...|  2904|   5|\n",
      "|      David Bromberg|Logged In|Alexander|     M|            1|    Short|146.36363| free|       Green Bay, WI|   PUT|NextSong|1513594398284|     3689|Sheebeg And Sheemore|   200|1513721097284|\"Mozilla/5.0 (Win...|   597|   5|\n",
      "|          Nickelback|Logged In|  Abigail|     F|            4| Davidson|238.18404| paid|Lansing-East Lans...|   PUT|NextSong|1513173389284|     4591|Far Away (Album V...|   200|1513721104284|\"Mozilla/5.0 (Mac...|   226|   5|\n",
      "+--------------------+---------+---------+------+-------------+---------+---------+-----+--------------------+------+--------+-------------+---------+--------------------+------+-------------+--------------------+------+----+\n",
      "only showing top 20 rows\n",
      "\n"
     ]
    }
   ],
   "source": [
    "user_log.show()"
   ]
  },
  {
   "cell_type": "code",
   "execution_count": 54,
   "metadata": {
    "ExecuteTime": {
     "end_time": "2019-10-30T08:22:47.036811Z",
     "start_time": "2019-10-30T08:22:46.946282Z"
    }
   },
   "outputs": [],
   "source": [
    "songs_in_hour = user_log.filter(user_log[\"page\"] == 'NextSong').groupby(user_log[\"hour\"]).count().orderBy(user_log[\"hour\"].cast(\"float\"))\n",
    "#first, find the data that page equal NextSong,\n",
    "#second, grouping by hour and counting how many\n",
    "#sorting by hour itself\n"
   ]
  },
  {
   "cell_type": "code",
   "execution_count": 55,
   "metadata": {
    "ExecuteTime": {
     "end_time": "2019-10-30T08:22:47.630682Z",
     "start_time": "2019-10-30T08:22:47.615010Z"
    }
   },
   "outputs": [
    {
     "data": {
      "text/plain": [
       "DataFrame[hour: string, count: bigint]"
      ]
     },
     "execution_count": 55,
     "metadata": {},
     "output_type": "execute_result"
    }
   ],
   "source": [
    "songs_in_hour\n",
    "#again, lazy evaluation"
   ]
  },
  {
   "cell_type": "code",
   "execution_count": 56,
   "metadata": {
    "ExecuteTime": {
     "end_time": "2019-10-30T08:23:14.439916Z",
     "start_time": "2019-10-30T08:23:09.264975Z"
    }
   },
   "outputs": [],
   "source": [
    "songs_in_hour_pd = songs_in_hour.toPandas()\n",
    "#convert into pandas"
   ]
  },
  {
   "cell_type": "code",
   "execution_count": 57,
   "metadata": {
    "ExecuteTime": {
     "end_time": "2019-10-30T08:24:13.258089Z",
     "start_time": "2019-10-30T08:24:12.515994Z"
    }
   },
   "outputs": [
    {
     "data": {
      "image/png": "[encoded data removed]",
      "text/plain": [
       "<Figure size 432x288 with 1 Axes>"
      ]
     },
     "metadata": {
      "needs_background": "light"
     },
     "output_type": "display_data"
    }
   ],
   "source": [
    "plt.scatter(songs_in_hour_pd['hour'], songs_in_hour_pd['count']);\n",
    "#visualize it"
   ]
  },
  {
   "cell_type": "code",
   "execution_count": 58,
   "metadata": {
    "ExecuteTime": {
     "end_time": "2019-10-30T08:26:17.185266Z",
     "start_time": "2019-10-30T08:26:11.627692Z"
    }
   },
   "outputs": [
    {
     "data": {
      "text/html": [
       "        <script type=\"text/javascript\">\n",
       "        window.PlotlyConfig = {MathJaxConfig: 'local'};\n",
       "        if (window.MathJax) {MathJax.Hub.Config({SVG: {font: \"STIX-Web\"}});}\n",
       "        if (typeof require !== 'undefined') {\n",
       "        require.undef(\"plotly\");\n",
       "        requirejs.config({\n",
       "            paths: {\n",
       "                'plotly': ['https://cdn.plot.ly/plotly-latest.min']\n",
       "            }\n",
       "        });\n",
       "        require(['plotly'], function(Plotly) {\n",
       "            window._Plotly = Plotly;\n",
       "        });\n",
       "        }\n",
       "        </script>\n",
       "        "
      ]
     },
     "metadata": {},
     "output_type": "display_data"
    }
   ],
   "source": [
    "import plotly_express as px\n",
    "from plotly.offline import init_notebook_mode, plot, iplot\n",
    "init_notebook_mode(connected=True)"
   ]
  },
  {
   "cell_type": "code",
   "execution_count": 60,
   "metadata": {
    "ExecuteTime": {
     "end_time": "2019-10-30T08:29:35.165801Z",
     "start_time": "2019-10-30T08:29:33.578866Z"
    }
   },
   "outputs": [
    {
     "data": {
      "application/vnd.plotly.v1+json": {
       "config": {
        "plotlyServerURL": "https://plot.ly"
       },
       "data": [
        {
         "hoverlabel": {
          "namelength": 0
         },
         "hovertemplate": "hour=%{x}<br>count=%{y}",
         "legendgroup": "",
         "line": {
          "color": "#636efa",
          "dash": "solid"
         },
         "mode": "lines",
         "name": "",
         "showlegend": false,
         "type": "scatter",
         "x": [
          "0",
          "1",
          "2",
          "3",
          "4",
          "5",
          "6",
          "7",
          "8",
          "9",
          "10",
          "11",
          "12",
          "13",
          "14",
          "15",
          "16",
          "17",
          "18",
          "19",
          "20",
          "21",
          "22",
          "23"
         ],
         "xaxis": "x",
         "y": [
          430,
          362,
          295,
          257,
          248,
          369,
          375,
          456,
          454,
          382,
          302,
          352,
          276,
          348,
          358,
          375,
          249,
          216,
          228,
          251,
          339,
          462,
          479,
          484
         ],
         "yaxis": "y"
        }
       ],
       "layout": {
        "height": 600,
        "legend": {
         "tracegroupgap": 0
        },
        "template": {
         "data": {
          "bar": [
           {
            "error_x": {
             "color": "#2a3f5f"
            },
            "error_y": {
             "color": "#2a3f5f"
            },
            "marker": {
             "line": {
              "color": "#E5ECF6",
              "width": 0.5
             }
            },
            "type": "bar"
           }
          ],
          "barpolar": [
           {
            "marker": {
             "line": {
              "color": "#E5ECF6",
              "width": 0.5
             }
            },
            "type": "barpolar"
           }
          ],
          "carpet": [
           {
            "aaxis": {
             "endlinecolor": "#2a3f5f",
             "gridcolor": "white",
             "linecolor": "white",
             "minorgridcolor": "white",
             "startlinecolor": "#2a3f5f"
            },
            "baxis": {
             "endlinecolor": "#2a3f5f",
             "gridcolor": "white",
             "linecolor": "white",
             "minorgridcolor": "white",
             "startlinecolor": "#2a3f5f"
            },
            "type": "carpet"
           }
          ],
          "choropleth": [
           {
            "colorbar": {
             "outlinewidth": 0,
             "ticks": ""
            },
            "type": "choropleth"
           }
          ],
          "contour": [
           {
            "colorbar": {
             "outlinewidth": 0,
             "ticks": ""
            },
            "colorscale": [
             [
              0,
              "#0d0887"
             ],
             [
              0.1111111111111111,
              "#46039f"
             ],
             [
              0.2222222222222222,
              "#7201a8"
             ],
             [
              0.3333333333333333,
              "#9c179e"
             ],
             [
              0.4444444444444444,
              "#bd3786"
             ],
             [
              0.5555555555555556,
              "#d8576b"
             ],
             [
              0.6666666666666666,
              "#ed7953"
             ],
             [
              0.7777777777777778,
              "#fb9f3a"
             ],
             [
              0.8888888888888888,
              "#fdca26"
             ],
             [
              1,
              "#f0f921"
             ]
            ],
            "type": "contour"
           }
          ],
          "contourcarpet": [
           {
            "colorbar": {
             "outlinewidth": 0,
             "ticks": ""
            },
            "type": "contourcarpet"
           }
          ],
          "heatmap": [
           {
            "colorbar": {
             "outlinewidth": 0,
             "ticks": ""
            },
            "colorscale": [
             [
              0,
              "#0d0887"
             ],
             [
              0.1111111111111111,
              "#46039f"
             ],
             [
              0.2222222222222222,
              "#7201a8"
             ],
             [
              0.3333333333333333,
              "#9c179e"
             ],
             [
              0.4444444444444444,
              "#bd3786"
             ],
             [
              0.5555555555555556,
              "#d8576b"
             ],
             [
              0.6666666666666666,
              "#ed7953"
             ],
             [
              0.7777777777777778,
              "#fb9f3a"
             ],
             [
              0.8888888888888888,
              "#fdca26"
             ],
             [
              1,
              "#f0f921"
             ]
            ],
            "type": "heatmap"
           }
          ],
          "heatmapgl": [
           {
            "colorbar": {
             "outlinewidth": 0,
             "ticks": ""
            },
            "colorscale": [
             [
              0,
              "#0d0887"
             ],
             [
              0.1111111111111111,
              "#46039f"
             ],
             [
              0.2222222222222222,
              "#7201a8"
             ],
             [
              0.3333333333333333,
              "#9c179e"
             ],
             [
              0.4444444444444444,
              "#bd3786"
             ],
             [
              0.5555555555555556,
              "#d8576b"
             ],
             [
              0.6666666666666666,
              "#ed7953"
             ],
             [
              0.7777777777777778,
              "#fb9f3a"
             ],
             [
              0.8888888888888888,
              "#fdca26"
             ],
             [
              1,
              "#f0f921"
             ]
            ],
            "type": "heatmapgl"
           }
          ],
          "histogram": [
           {
            "marker": {
             "colorbar": {
              "outlinewidth": 0,
              "ticks": ""
             }
            },
            "type": "histogram"
           }
          ],
          "histogram2d": [
           {
            "colorbar": {
             "outlinewidth": 0,
             "ticks": ""
            },
            "colorscale": [
             [
              0,
              "#0d0887"
             ],
             [
              0.1111111111111111,
              "#46039f"
             ],
             [
              0.2222222222222222,
              "#7201a8"
             ],
             [
              0.3333333333333333,
              "#9c179e"
             ],
             [
              0.4444444444444444,
              "#bd3786"
             ],
             [
              0.5555555555555556,
              "#d8576b"
             ],
             [
              0.6666666666666666,
              "#ed7953"
             ],
             [
              0.7777777777777778,
              "#fb9f3a"
             ],
             [
              0.8888888888888888,
              "#fdca26"
             ],
             [
              1,
              "#f0f921"
             ]
            ],
            "type": "histogram2d"
           }
          ],
          "histogram2dcontour": [
           {
            "colorbar": {
             "outlinewidth": 0,
             "ticks": ""
            },
            "colorscale": [
             [
              0,
              "#0d0887"
             ],
             [
              0.1111111111111111,
              "#46039f"
             ],
             [
              0.2222222222222222,
              "#7201a8"
             ],
             [
              0.3333333333333333,
              "#9c179e"
             ],
             [
              0.4444444444444444,
              "#bd3786"
             ],
             [
              0.5555555555555556,
              "#d8576b"
             ],
             [
              0.6666666666666666,
              "#ed7953"
             ],
             [
              0.7777777777777778,
              "#fb9f3a"
             ],
             [
              0.8888888888888888,
              "#fdca26"
             ],
             [
              1,
              "#f0f921"
             ]
            ],
            "type": "histogram2dcontour"
           }
          ],
          "mesh3d": [
           {
            "colorbar": {
             "outlinewidth": 0,
             "ticks": ""
            },
            "type": "mesh3d"
           }
          ],
          "parcoords": [
           {
            "line": {
             "colorbar": {
              "outlinewidth": 0,
              "ticks": ""
             }
            },
            "type": "parcoords"
           }
          ],
          "scatter": [
           {
            "marker": {
             "colorbar": {
              "outlinewidth": 0,
              "ticks": ""
             }
            },
            "type": "scatter"
           }
          ],
          "scatter3d": [
           {
            "line": {
             "colorbar": {
              "outlinewidth": 0,
              "ticks": ""
             }
            },
            "marker": {
             "colorbar": {
              "outlinewidth": 0,
              "ticks": ""
             }
            },
            "type": "scatter3d"
           }
          ],
          "scattercarpet": [
           {
            "marker": {
             "colorbar": {
              "outlinewidth": 0,
              "ticks": ""
             }
            },
            "type": "scattercarpet"
           }
          ],
          "scattergeo": [
           {
            "marker": {
             "colorbar": {
              "outlinewidth": 0,
              "ticks": ""
             }
            },
            "type": "scattergeo"
           }
          ],
          "scattergl": [
           {
            "marker": {
             "colorbar": {
              "outlinewidth": 0,
              "ticks": ""
             }
            },
            "type": "scattergl"
           }
          ],
          "scattermapbox": [
           {
            "marker": {
             "colorbar": {
              "outlinewidth": 0,
              "ticks": ""
             }
            },
            "type": "scattermapbox"
           }
          ],
          "scatterpolar": [
           {
            "marker": {
             "colorbar": {
              "outlinewidth": 0,
              "ticks": ""
             }
            },
            "type": "scatterpolar"
           }
          ],
          "scatterpolargl": [
           {
            "marker": {
             "colorbar": {
              "outlinewidth": 0,
              "ticks": ""
             }
            },
            "type": "scatterpolargl"
           }
          ],
          "scatterternary": [
           {
            "marker": {
             "colorbar": {
              "outlinewidth": 0,
              "ticks": ""
             }
            },
            "type": "scatterternary"
           }
          ],
          "surface": [
           {
            "colorbar": {
             "outlinewidth": 0,
             "ticks": ""
            },
            "colorscale": [
             [
              0,
              "#0d0887"
             ],
             [
              0.1111111111111111,
              "#46039f"
             ],
             [
              0.2222222222222222,
              "#7201a8"
             ],
             [
              0.3333333333333333,
              "#9c179e"
             ],
             [
              0.4444444444444444,
              "#bd3786"
             ],
             [
              0.5555555555555556,
              "#d8576b"
             ],
             [
              0.6666666666666666,
              "#ed7953"
             ],
             [
              0.7777777777777778,
              "#fb9f3a"
             ],
             [
              0.8888888888888888,
              "#fdca26"
             ],
             [
              1,
              "#f0f921"
             ]
            ],
            "type": "surface"
           }
          ],
          "table": [
           {
            "cells": {
             "fill": {
              "color": "#EBF0F8"
             },
             "line": {
              "color": "white"
             }
            },
            "header": {
             "fill": {
              "color": "#C8D4E3"
             },
             "line": {
              "color": "white"
             }
            },
            "type": "table"
           }
          ]
         },
         "layout": {
          "annotationdefaults": {
           "arrowcolor": "#2a3f5f",
           "arrowhead": 0,
           "arrowwidth": 1
          },
          "colorscale": {
           "diverging": [
            [
             0,
             "#8e0152"
            ],
            [
             0.1,
             "#c51b7d"
            ],
            [
             0.2,
             "#de77ae"
            ],
            [
             0.3,
             "#f1b6da"
            ],
            [
             0.4,
             "#fde0ef"
            ],
            [
             0.5,
             "#f7f7f7"
            ],
            [
             0.6,
             "#e6f5d0"
            ],
            [
             0.7,
             "#b8e186"
            ],
            [
             0.8,
             "#7fbc41"
            ],
            [
             0.9,
             "#4d9221"
            ],
            [
             1,
             "#276419"
            ]
           ],
           "sequential": [
            [
             0,
             "#0d0887"
            ],
            [
             0.1111111111111111,
             "#46039f"
            ],
            [
             0.2222222222222222,
             "#7201a8"
            ],
            [
             0.3333333333333333,
             "#9c179e"
            ],
            [
             0.4444444444444444,
             "#bd3786"
            ],
            [
             0.5555555555555556,
             "#d8576b"
            ],
            [
             0.6666666666666666,
             "#ed7953"
            ],
            [
             0.7777777777777778,
             "#fb9f3a"
            ],
            [
             0.8888888888888888,
             "#fdca26"
            ],
            [
             1,
             "#f0f921"
            ]
           ],
           "sequentialminus": [
            [
             0,
             "#0d0887"
            ],
            [
             0.1111111111111111,
             "#46039f"
            ],
            [
             0.2222222222222222,
             "#7201a8"
            ],
            [
             0.3333333333333333,
             "#9c179e"
            ],
            [
             0.4444444444444444,
             "#bd3786"
            ],
            [
             0.5555555555555556,
             "#d8576b"
            ],
            [
             0.6666666666666666,
             "#ed7953"
            ],
            [
             0.7777777777777778,
             "#fb9f3a"
            ],
            [
             0.8888888888888888,
             "#fdca26"
            ],
            [
             1,
             "#f0f921"
            ]
           ]
          },
          "colorway": [
           "#636efa",
           "#EF553B",
           "#00cc96",
           "#ab63fa",
           "#FFA15A",
           "#19d3f3",
           "#FF6692",
           "#B6E880",
           "#FF97FF",
           "#FECB52"
          ],
          "font": {
           "color": "#2a3f5f"
          },
          "geo": {
           "bgcolor": "white",
           "lakecolor": "white",
           "landcolor": "#E5ECF6",
           "showlakes": true,
           "showland": true,
           "subunitcolor": "white"
          },
          "hoverlabel": {
           "align": "left"
          },
          "hovermode": "closest",
          "mapbox": {
           "style": "light"
          },
          "paper_bgcolor": "white",
          "plot_bgcolor": "#E5ECF6",
          "polar": {
           "angularaxis": {
            "gridcolor": "white",
            "linecolor": "white",
            "ticks": ""
           },
           "bgcolor": "#E5ECF6",
           "radialaxis": {
            "gridcolor": "white",
            "linecolor": "white",
            "ticks": ""
           }
          },
          "scene": {
           "xaxis": {
            "backgroundcolor": "#E5ECF6",
            "gridcolor": "white",
            "gridwidth": 2,
            "linecolor": "white",
            "showbackground": true,
            "ticks": "",
            "zerolinecolor": "white"
           },
           "yaxis": {
            "backgroundcolor": "#E5ECF6",
            "gridcolor": "white",
            "gridwidth": 2,
            "linecolor": "white",
            "showbackground": true,
            "ticks": "",
            "zerolinecolor": "white"
           },
           "zaxis": {
            "backgroundcolor": "#E5ECF6",
            "gridcolor": "white",
            "gridwidth": 2,
            "linecolor": "white",
            "showbackground": true,
            "ticks": "",
            "zerolinecolor": "white"
           }
          },
          "shapedefaults": {
           "line": {
            "color": "#2a3f5f"
           }
          },
          "ternary": {
           "aaxis": {
            "gridcolor": "white",
            "linecolor": "white",
            "ticks": ""
           },
           "baxis": {
            "gridcolor": "white",
            "linecolor": "white",
            "ticks": ""
           },
           "bgcolor": "#E5ECF6",
           "caxis": {
            "gridcolor": "white",
            "linecolor": "white",
            "ticks": ""
           }
          },
          "title": {
           "x": 0.05
          },
          "xaxis": {
           "automargin": true,
           "gridcolor": "white",
           "linecolor": "white",
           "ticks": "",
           "zerolinecolor": "white",
           "zerolinewidth": 2
          },
          "yaxis": {
           "automargin": true,
           "gridcolor": "white",
           "linecolor": "white",
           "ticks": "",
           "zerolinecolor": "white",
           "zerolinewidth": 2
          }
         }
        },
        "title": {
         "text": "How much song played on everyday (based on hour)"
        },
        "xaxis": {
         "anchor": "y",
         "domain": [
          0,
          0.98
         ],
         "title": {
          "text": "hour"
         }
        },
        "yaxis": {
         "anchor": "x",
         "domain": [
          0,
          1
         ],
         "title": {
          "text": "count"
         }
        }
       }
      },
      "text/html": [
       "<div>\n",
       "        \n",
       "        \n",
       "            <div id=\"544afb35-0842-4ef2-9682-fc4ce8b8da17\" class=\"plotly-graph-div\" style=\"height:600px; width:100%;\"></div>\n",
       "            <script type=\"text/javascript\">\n",
       "                require([\"plotly\"], function(Plotly) {\n",
       "                    window.PLOTLYENV=window.PLOTLYENV || {};\n",
       "                    \n",
       "                if (document.getElementById(\"544afb35-0842-4ef2-9682-fc4ce8b8da17\")) {\n",
       "                    Plotly.newPlot(\n",
       "                        '544afb35-0842-4ef2-9682-fc4ce8b8da17',\n",
       "                        [{\"hoverlabel\": {\"namelength\": 0}, \"hovertemplate\": \"hour=%{x}<br>count=%{y}\", \"legendgroup\": \"\", \"line\": {\"color\": \"#636efa\", \"dash\": \"solid\"}, \"mode\": \"lines\", \"name\": \"\", \"showlegend\": false, \"type\": \"scatter\", \"x\": [\"0\", \"1\", \"2\", \"3\", \"4\", \"5\", \"6\", \"7\", \"8\", \"9\", \"10\", \"11\", \"12\", \"13\", \"14\", \"15\", \"16\", \"17\", \"18\", \"19\", \"20\", \"21\", \"22\", \"23\"], \"xaxis\": \"x\", \"y\": [430, 362, 295, 257, 248, 369, 375, 456, 454, 382, 302, 352, 276, 348, 358, 375, 249, 216, 228, 251, 339, 462, 479, 484], \"yaxis\": \"y\"}],\n",
       "                        {\"height\": 600, \"legend\": {\"tracegroupgap\": 0}, \"template\": {\"data\": {\"bar\": [{\"error_x\": {\"color\": \"#2a3f5f\"}, \"error_y\": {\"color\": \"#2a3f5f\"}, \"marker\": {\"line\": {\"color\": \"#E5ECF6\", \"width\": 0.5}}, \"type\": \"bar\"}], \"barpolar\": [{\"marker\": {\"line\": {\"color\": \"#E5ECF6\", \"width\": 0.5}}, \"type\": \"barpolar\"}], \"carpet\": [{\"aaxis\": {\"endlinecolor\": \"#2a3f5f\", \"gridcolor\": \"white\", \"linecolor\": \"white\", \"minorgridcolor\": \"white\", \"startlinecolor\": \"#2a3f5f\"}, \"baxis\": {\"endlinecolor\": \"#2a3f5f\", \"gridcolor\": \"white\", \"linecolor\": \"white\", \"minorgridcolor\": \"white\", \"startlinecolor\": \"#2a3f5f\"}, \"type\": \"carpet\"}], \"choropleth\": [{\"colorbar\": {\"outlinewidth\": 0, \"ticks\": \"\"}, \"type\": \"choropleth\"}], \"contour\": [{\"colorbar\": {\"outlinewidth\": 0, \"ticks\": \"\"}, \"colorscale\": [[0.0, \"#0d0887\"], [0.1111111111111111, \"#46039f\"], [0.2222222222222222, \"#7201a8\"], [0.3333333333333333, \"#9c179e\"], [0.4444444444444444, \"#bd3786\"], [0.5555555555555556, \"#d8576b\"], [0.6666666666666666, \"#ed7953\"], [0.7777777777777778, \"#fb9f3a\"], [0.8888888888888888, \"#fdca26\"], [1.0, \"#f0f921\"]], \"type\": \"contour\"}], \"contourcarpet\": [{\"colorbar\": {\"outlinewidth\": 0, \"ticks\": \"\"}, \"type\": \"contourcarpet\"}], \"heatmap\": [{\"colorbar\": {\"outlinewidth\": 0, \"ticks\": \"\"}, \"colorscale\": [[0.0, \"#0d0887\"], [0.1111111111111111, \"#46039f\"], [0.2222222222222222, \"#7201a8\"], [0.3333333333333333, \"#9c179e\"], [0.4444444444444444, \"#bd3786\"], [0.5555555555555556, \"#d8576b\"], [0.6666666666666666, \"#ed7953\"], [0.7777777777777778, \"#fb9f3a\"], [0.8888888888888888, \"#fdca26\"], [1.0, \"#f0f921\"]], \"type\": \"heatmap\"}], \"heatmapgl\": [{\"colorbar\": {\"outlinewidth\": 0, \"ticks\": \"\"}, \"colorscale\": [[0.0, \"#0d0887\"], [0.1111111111111111, \"#46039f\"], [0.2222222222222222, \"#7201a8\"], [0.3333333333333333, \"#9c179e\"], [0.4444444444444444, \"#bd3786\"], [0.5555555555555556, \"#d8576b\"], [0.6666666666666666, \"#ed7953\"], [0.7777777777777778, \"#fb9f3a\"], [0.8888888888888888, \"#fdca26\"], [1.0, \"#f0f921\"]], \"type\": \"heatmapgl\"}], \"histogram\": [{\"marker\": {\"colorbar\": {\"outlinewidth\": 0, \"ticks\": \"\"}}, \"type\": \"histogram\"}], \"histogram2d\": [{\"colorbar\": {\"outlinewidth\": 0, \"ticks\": \"\"}, \"colorscale\": [[0.0, \"#0d0887\"], [0.1111111111111111, \"#46039f\"], [0.2222222222222222, \"#7201a8\"], [0.3333333333333333, \"#9c179e\"], [0.4444444444444444, \"#bd3786\"], [0.5555555555555556, \"#d8576b\"], [0.6666666666666666, \"#ed7953\"], [0.7777777777777778, \"#fb9f3a\"], [0.8888888888888888, \"#fdca26\"], [1.0, \"#f0f921\"]], \"type\": \"histogram2d\"}], \"histogram2dcontour\": [{\"colorbar\": {\"outlinewidth\": 0, \"ticks\": \"\"}, \"colorscale\": [[0.0, \"#0d0887\"], [0.1111111111111111, \"#46039f\"], [0.2222222222222222, \"#7201a8\"], [0.3333333333333333, \"#9c179e\"], [0.4444444444444444, \"#bd3786\"], [0.5555555555555556, \"#d8576b\"], [0.6666666666666666, \"#ed7953\"], [0.7777777777777778, \"#fb9f3a\"], [0.8888888888888888, \"#fdca26\"], [1.0, \"#f0f921\"]], \"type\": \"histogram2dcontour\"}], \"mesh3d\": [{\"colorbar\": {\"outlinewidth\": 0, \"ticks\": \"\"}, \"type\": \"mesh3d\"}], \"parcoords\": [{\"line\": {\"colorbar\": {\"outlinewidth\": 0, \"ticks\": \"\"}}, \"type\": \"parcoords\"}], \"scatter\": [{\"marker\": {\"colorbar\": {\"outlinewidth\": 0, \"ticks\": \"\"}}, \"type\": \"scatter\"}], \"scatter3d\": [{\"line\": {\"colorbar\": {\"outlinewidth\": 0, \"ticks\": \"\"}}, \"marker\": {\"colorbar\": {\"outlinewidth\": 0, \"ticks\": \"\"}}, \"type\": \"scatter3d\"}], \"scattercarpet\": [{\"marker\": {\"colorbar\": {\"outlinewidth\": 0, \"ticks\": \"\"}}, \"type\": \"scattercarpet\"}], \"scattergeo\": [{\"marker\": {\"colorbar\": {\"outlinewidth\": 0, \"ticks\": \"\"}}, \"type\": \"scattergeo\"}], \"scattergl\": [{\"marker\": {\"colorbar\": {\"outlinewidth\": 0, \"ticks\": \"\"}}, \"type\": \"scattergl\"}], \"scattermapbox\": [{\"marker\": {\"colorbar\": {\"outlinewidth\": 0, \"ticks\": \"\"}}, \"type\": \"scattermapbox\"}], \"scatterpolar\": [{\"marker\": {\"colorbar\": {\"outlinewidth\": 0, \"ticks\": \"\"}}, \"type\": \"scatterpolar\"}], \"scatterpolargl\": [{\"marker\": {\"colorbar\": {\"outlinewidth\": 0, \"ticks\": \"\"}}, \"type\": \"scatterpolargl\"}], \"scatterternary\": [{\"marker\": {\"colorbar\": {\"outlinewidth\": 0, \"ticks\": \"\"}}, \"type\": \"scatterternary\"}], \"surface\": [{\"colorbar\": {\"outlinewidth\": 0, \"ticks\": \"\"}, \"colorscale\": [[0.0, \"#0d0887\"], [0.1111111111111111, \"#46039f\"], [0.2222222222222222, \"#7201a8\"], [0.3333333333333333, \"#9c179e\"], [0.4444444444444444, \"#bd3786\"], [0.5555555555555556, \"#d8576b\"], [0.6666666666666666, \"#ed7953\"], [0.7777777777777778, \"#fb9f3a\"], [0.8888888888888888, \"#fdca26\"], [1.0, \"#f0f921\"]], \"type\": \"surface\"}], \"table\": [{\"cells\": {\"fill\": {\"color\": \"#EBF0F8\"}, \"line\": {\"color\": \"white\"}}, \"header\": {\"fill\": {\"color\": \"#C8D4E3\"}, \"line\": {\"color\": \"white\"}}, \"type\": \"table\"}]}, \"layout\": {\"annotationdefaults\": {\"arrowcolor\": \"#2a3f5f\", \"arrowhead\": 0, \"arrowwidth\": 1}, \"colorscale\": {\"diverging\": [[0, \"#8e0152\"], [0.1, \"#c51b7d\"], [0.2, \"#de77ae\"], [0.3, \"#f1b6da\"], [0.4, \"#fde0ef\"], [0.5, \"#f7f7f7\"], [0.6, \"#e6f5d0\"], [0.7, \"#b8e186\"], [0.8, \"#7fbc41\"], [0.9, \"#4d9221\"], [1, \"#276419\"]], \"sequential\": [[0.0, \"#0d0887\"], [0.1111111111111111, \"#46039f\"], [0.2222222222222222, \"#7201a8\"], [0.3333333333333333, \"#9c179e\"], [0.4444444444444444, \"#bd3786\"], [0.5555555555555556, \"#d8576b\"], [0.6666666666666666, \"#ed7953\"], [0.7777777777777778, \"#fb9f3a\"], [0.8888888888888888, \"#fdca26\"], [1.0, \"#f0f921\"]], \"sequentialminus\": [[0.0, \"#0d0887\"], [0.1111111111111111, \"#46039f\"], [0.2222222222222222, \"#7201a8\"], [0.3333333333333333, \"#9c179e\"], [0.4444444444444444, \"#bd3786\"], [0.5555555555555556, \"#d8576b\"], [0.6666666666666666, \"#ed7953\"], [0.7777777777777778, \"#fb9f3a\"], [0.8888888888888888, \"#fdca26\"], [1.0, \"#f0f921\"]]}, \"colorway\": [\"#636efa\", \"#EF553B\", \"#00cc96\", \"#ab63fa\", \"#FFA15A\", \"#19d3f3\", \"#FF6692\", \"#B6E880\", \"#FF97FF\", \"#FECB52\"], \"font\": {\"color\": \"#2a3f5f\"}, \"geo\": {\"bgcolor\": \"white\", \"lakecolor\": \"white\", \"landcolor\": \"#E5ECF6\", \"showlakes\": true, \"showland\": true, \"subunitcolor\": \"white\"}, \"hoverlabel\": {\"align\": \"left\"}, \"hovermode\": \"closest\", \"mapbox\": {\"style\": \"light\"}, \"paper_bgcolor\": \"white\", \"plot_bgcolor\": \"#E5ECF6\", \"polar\": {\"angularaxis\": {\"gridcolor\": \"white\", \"linecolor\": \"white\", \"ticks\": \"\"}, \"bgcolor\": \"#E5ECF6\", \"radialaxis\": {\"gridcolor\": \"white\", \"linecolor\": \"white\", \"ticks\": \"\"}}, \"scene\": {\"xaxis\": {\"backgroundcolor\": \"#E5ECF6\", \"gridcolor\": \"white\", \"gridwidth\": 2, \"linecolor\": \"white\", \"showbackground\": true, \"ticks\": \"\", \"zerolinecolor\": \"white\"}, \"yaxis\": {\"backgroundcolor\": \"#E5ECF6\", \"gridcolor\": \"white\", \"gridwidth\": 2, \"linecolor\": \"white\", \"showbackground\": true, \"ticks\": \"\", \"zerolinecolor\": \"white\"}, \"zaxis\": {\"backgroundcolor\": \"#E5ECF6\", \"gridcolor\": \"white\", \"gridwidth\": 2, \"linecolor\": \"white\", \"showbackground\": true, \"ticks\": \"\", \"zerolinecolor\": \"white\"}}, \"shapedefaults\": {\"line\": {\"color\": \"#2a3f5f\"}}, \"ternary\": {\"aaxis\": {\"gridcolor\": \"white\", \"linecolor\": \"white\", \"ticks\": \"\"}, \"baxis\": {\"gridcolor\": \"white\", \"linecolor\": \"white\", \"ticks\": \"\"}, \"bgcolor\": \"#E5ECF6\", \"caxis\": {\"gridcolor\": \"white\", \"linecolor\": \"white\", \"ticks\": \"\"}}, \"title\": {\"x\": 0.05}, \"xaxis\": {\"automargin\": true, \"gridcolor\": \"white\", \"linecolor\": \"white\", \"ticks\": \"\", \"zerolinecolor\": \"white\", \"zerolinewidth\": 2}, \"yaxis\": {\"automargin\": true, \"gridcolor\": \"white\", \"linecolor\": \"white\", \"ticks\": \"\", \"zerolinecolor\": \"white\", \"zerolinewidth\": 2}}}, \"title\": {\"text\": \"How much song played on everyday (based on hour)\"}, \"xaxis\": {\"anchor\": \"y\", \"domain\": [0.0, 0.98], \"title\": {\"text\": \"hour\"}}, \"yaxis\": {\"anchor\": \"x\", \"domain\": [0.0, 1.0], \"title\": {\"text\": \"count\"}}},\n",
       "                        {\"responsive\": true}\n",
       "                    ).then(function(){\n",
       "                            \n",
       "var gd = document.getElementById('544afb35-0842-4ef2-9682-fc4ce8b8da17');\n",
       "var x = new MutationObserver(function (mutations, observer) {{\n",
       "        var display = window.getComputedStyle(gd).display;\n",
       "        if (!display || display === 'none') {{\n",
       "            console.log([gd, 'removed!']);\n",
       "            Plotly.purge(gd);\n",
       "            observer.disconnect();\n",
       "        }}\n",
       "}});\n",
       "\n",
       "// Listen for the removal of the full notebook cells\n",
       "var notebookContainer = gd.closest('#notebook-container');\n",
       "if (notebookContainer) {{\n",
       "    x.observe(notebookContainer, {childList: true});\n",
       "}}\n",
       "\n",
       "// Listen for the clearing of the current output cell\n",
       "var outputEl = gd.closest('.output');\n",
       "if (outputEl) {{\n",
       "    x.observe(outputEl, {childList: true});\n",
       "}}\n",
       "\n",
       "                        })\n",
       "                };\n",
       "                });\n",
       "            </script>\n",
       "        </div>"
      ]
     },
     "metadata": {},
     "output_type": "display_data"
    }
   ],
   "source": [
    "#using plotly express\n",
    "px.line(songs_in_hour_pd, 'hour', 'count', title=\"How much song played on everyday (based on hour)\")"
   ]
  },
  {
   "cell_type": "code",
   "execution_count": null,
   "metadata": {},
   "outputs": [],
   "source": []
  }
 ],
 "metadata": {
  "kernelspec": {
   "display_name": "Python 3",
   "language": "python",
   "name": "python3"
  },
  "language_info": {
   "codemirror_mode": {
    "name": "ipython",
    "version": 3
   },
   "file_extension": ".py",
   "mimetype": "text/x-python",
   "name": "python",
   "nbconvert_exporter": "python",
   "pygments_lexer": "ipython3",
   "version": "3.7.3"
  },
  "toc": {
   "base_numbering": 1,
   "nav_menu": {},
   "number_sections": true,
   "sideBar": true,
   "skip_h1_title": false,
   "title_cell": "Table of Contents",
   "title_sidebar": "Contents",
   "toc_cell": false,
   "toc_position": {},
   "toc_section_display": true,
   "toc_window_display": false
  },
  "varInspector": {
   "cols": {
    "lenName": 16,
    "lenType": 16,
    "lenVar": 40
   },
   "kernels_config": {
    "python": {
     "delete_cmd_postfix": "",
     "delete_cmd_prefix": "del ",
     "library": "var_list.py",
     "varRefreshCmd": "print(var_dic_list())"
    },
    "r": {
     "delete_cmd_postfix": ") ",
     "delete_cmd_prefix": "rm(",
     "library": "var_list.r",
     "varRefreshCmd": "cat(var_dic_list()) "
    }
   },
   "types_to_exclude": [
    "module",
    "function",
    "builtin_function_or_method",
    "instance",
    "_Feature"
   ],
   "window_display": false
  }
 },
 "nbformat": 4,
 "nbformat_minor": 2
}
